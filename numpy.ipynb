{
 "cells": [
  {
   "cell_type": "markdown",
   "id": "c409ed85-c107-4017-8fd1-73346429e499",
   "metadata": {},
   "source": [
    "#### 1. Create a NumPy array 'arr' of integers from 0 to 5 and print its data type."
   ]
  },
  {
   "cell_type": "code",
   "execution_count": 1,
   "id": "3a4ec4e5-d018-480e-8961-5392a96d8ca6",
   "metadata": {},
   "outputs": [
    {
     "name": "stdout",
     "output_type": "stream",
     "text": [
      "Array: [0 1 2 3 4 5]\n",
      "Data Type: int32\n"
     ]
    }
   ],
   "source": [
    "import numpy as np\n",
    "\n",
    "arr = np.array([0, 1, 2, 3, 4, 5])\n",
    "print(\"Array:\", arr)\n",
    "print(\"Data Type:\", arr.dtype)\n"
   ]
  },
  {
   "cell_type": "markdown",
   "id": "2be1d19b-6642-4076-b44d-30eea1af5cef",
   "metadata": {},
   "source": [
    "#### 2. Check if a NumPy array's data type is float64."
   ]
  },
  {
   "cell_type": "code",
   "execution_count": 2,
   "id": "d03f27c2-29da-4d50-a028-b48c5690215b",
   "metadata": {},
   "outputs": [
    {
     "name": "stdout",
     "output_type": "stream",
     "text": [
      "Is float64: True\n"
     ]
    }
   ],
   "source": [
    "arr = np.array([1.1, 2.2, 3.3])\n",
    "print(\"Is float64:\", arr.dtype == np.float64)\n"
   ]
  },
  {
   "cell_type": "markdown",
   "id": "72d3a75a-f41d-4f99-b93a-6b69d347b45e",
   "metadata": {},
   "source": [
    "#### 3. Create an array with complex128 data type."
   ]
  },
  {
   "cell_type": "code",
   "execution_count": 3,
   "id": "0883881b-959b-4239-b244-1f72f398a38d",
   "metadata": {},
   "outputs": [
    {
     "name": "stdout",
     "output_type": "stream",
     "text": [
      "Array: [1.+2.j 3.+4.j 5.+6.j]\n",
      "Data Type: complex128\n"
     ]
    }
   ],
   "source": [
    "arr = np.array([1+2j, 3+4j, 5+6j], dtype=np.complex128)\n",
    "print(\"Array:\", arr)\n",
    "print(\"Data Type:\", arr.dtype)\n"
   ]
  },
  {
   "cell_type": "markdown",
   "id": "e91b2eb3-db2b-46d3-95e6-234c6985d98c",
   "metadata": {},
   "source": [
    "####  4. Convert integer array to float32."
   ]
  },
  {
   "cell_type": "code",
   "execution_count": 4,
   "id": "7d72e587-a82a-4c80-be87-c448ed1acbe3",
   "metadata": {},
   "outputs": [
    {
     "name": "stdout",
     "output_type": "stream",
     "text": [
      "Converted Array: [1. 2. 3. 4.]\n",
      "Data Type: float32\n"
     ]
    }
   ],
   "source": [
    "arr = np.array([1, 2, 3, 4])\n",
    "arr_float = arr.astype(np.float32)\n",
    "print(\"Converted Array:\", arr_float)\n",
    "print(\"Data Type:\", arr_float.dtype)\n"
   ]
  },
  {
   "cell_type": "markdown",
   "id": "68e2d497-2664-43fe-8df5-b756438be1f1",
   "metadata": {},
   "source": [
    "####  5. Convert float64 to float32 to reduce precision."
   ]
  },
  {
   "cell_type": "code",
   "execution_count": 5,
   "id": "4a3d91dc-671c-498d-befc-e974386814e5",
   "metadata": {},
   "outputs": [
    {
     "name": "stdout",
     "output_type": "stream",
     "text": [
      "Original: [1.11111111 2.22222222 3.33333333]\n",
      "Reduced Precision: [1.1111112 2.2222223 3.3333333]\n"
     ]
    }
   ],
   "source": [
    "arr = np.array([1.1111111111, 2.2222222222, 3.3333333333], dtype=np.float64)\n",
    "arr_reduced = arr.astype(np.float32)\n",
    "print(\"Original:\", arr)\n",
    "print(\"Reduced Precision:\", arr_reduced)\n"
   ]
  },
  {
   "cell_type": "markdown",
   "id": "dce3ec6c-ecc1-48fc-97e1-8c6910989da1",
   "metadata": {},
   "source": [
    "####  6. Write a function array_attributes that takes a NumPy array as input and returns its shape, size, and data type."
   ]
  },
  {
   "cell_type": "code",
   "execution_count": 6,
   "id": "5507de76-3130-49a4-afce-0f52277ece4b",
   "metadata": {},
   "outputs": [
    {
     "name": "stdout",
     "output_type": "stream",
     "text": [
      "((2, 2), 4, dtype('int32'))\n"
     ]
    }
   ],
   "source": [
    "def array_attributes(arr):\n",
    "    return arr.shape, arr.size, arr.dtype\n",
    "\n",
    "arr = np.array([[1, 2], [3, 4]])\n",
    "print(array_attributes(arr))\n"
   ]
  },
  {
   "cell_type": "markdown",
   "id": "a91ad490-bc0a-4832-91cc-5fe8b6d00004",
   "metadata": {},
   "source": [
    "####  7. Create a function array_dimension that takes a NumPy array as input and returns its dimensionality."
   ]
  },
  {
   "cell_type": "code",
   "execution_count": 7,
   "id": "18c04e04-8f88-40f9-99cd-1035789ce166",
   "metadata": {},
   "outputs": [
    {
     "name": "stdout",
     "output_type": "stream",
     "text": [
      "2\n"
     ]
    }
   ],
   "source": [
    "def array_dimension(arr):\n",
    "    return arr.ndim\n",
    "\n",
    "arr = np.array([[1, 2, 3], [4, 5, 6]])\n",
    "print(array_dimension(arr))\n"
   ]
  },
  {
   "cell_type": "markdown",
   "id": "3a378223-278b-4b1f-a1c9-6c70642e0f5d",
   "metadata": {},
   "source": [
    "#### 8. Design a function item_size_info that takes a NumPy array as input and returns the item size and the total size in bytes.\n",
    " \n"
   ]
  },
  {
   "cell_type": "code",
   "execution_count": 8,
   "id": "2b0a0b9f-dcfc-4fa3-8fb0-4bc0a2860c76",
   "metadata": {},
   "outputs": [
    {
     "name": "stdout",
     "output_type": "stream",
     "text": [
      "(4, 16)\n"
     ]
    }
   ],
   "source": [
    "def item_size_info(arr):\n",
    "    return arr.itemsize, arr.nbytes\n",
    "\n",
    "arr = np.array([[10, 20], [30, 40]])\n",
    "print(item_size_info(arr))\n"
   ]
  },
  {
   "cell_type": "markdown",
   "id": "99f9d848-9532-45fb-a16c-2be0e8a76e7e",
   "metadata": {},
   "source": [
    " #### 9. Create a function array_strides that takes a NumPy array as input and returns the strides of the array."
   ]
  },
  {
   "cell_type": "code",
   "execution_count": 9,
   "id": "b09686c7-063b-4553-ba48-846358c9d7b4",
   "metadata": {},
   "outputs": [
    {
     "name": "stdout",
     "output_type": "stream",
     "text": [
      "(8,)\n"
     ]
    }
   ],
   "source": [
    "def array_strides(arr):\n",
    "    return arr.strides\n",
    "\n",
    "arr = np.array([1.5, 2.6, 3.7])\n",
    "print(array_strides(arr))\n"
   ]
  },
  {
   "cell_type": "markdown",
   "id": "e1874c24-7899-41fd-9cdd-ed21b99e63b4",
   "metadata": {},
   "source": [
    "#### 10. Design a function shape_stride_relationship that takes a NumPy array as input and returns the shape and strides of the array.\n",
    " \n"
   ]
  },
  {
   "cell_type": "code",
   "execution_count": 11,
   "id": "b3e597ad-b153-4bcc-9c8e-d4c17018de7e",
   "metadata": {},
   "outputs": [
    {
     "name": "stdout",
     "output_type": "stream",
     "text": [
      "((2, 2), (8, 4))\n"
     ]
    }
   ],
   "source": [
    "def shape_stride_relationship(arr):\n",
    "    return arr.shape, arr.strides\n",
    "\n",
    "arr = np.array([[1, 2], [3, 4]])\n",
    "print(shape_stride_relationship(arr))\n"
   ]
  },
  {
   "cell_type": "markdown",
   "id": "ef053b04-7fd1-4b99-9b6d-09b44c4d27b0",
   "metadata": {},
   "source": [
    "#### 11. Create a function create_zeros_array that takes an integer n as input and returns a NumPy array of zeros with n elements."
   ]
  },
  {
   "cell_type": "code",
   "execution_count": 12,
   "id": "b62f7460-ab63-4b11-b885-53b15a66b05a",
   "metadata": {},
   "outputs": [
    {
     "name": "stdout",
     "output_type": "stream",
     "text": [
      "[0. 0. 0. 0. 0.]\n"
     ]
    }
   ],
   "source": [
    "def create_zeros_array(n):\n",
    "    return np.zeros(n)\n",
    "\n",
    "print(create_zeros_array(5))\n"
   ]
  },
  {
   "cell_type": "markdown",
   "id": "bded366a-f900-4f4f-bd07-1fea9b4ae77c",
   "metadata": {},
   "source": [
    "####  12. Write a function create_ones_matrix that takes integers rows and cols as inputs and generates a 2D NumPy array filled with ones of size rows x cols."
   ]
  },
  {
   "cell_type": "code",
   "execution_count": 13,
   "id": "2cd988d8-c824-4a19-a82d-867f9cfb28a9",
   "metadata": {},
   "outputs": [
    {
     "name": "stdout",
     "output_type": "stream",
     "text": [
      "[[1. 1. 1. 1.]\n",
      " [1. 1. 1. 1.]\n",
      " [1. 1. 1. 1.]]\n"
     ]
    }
   ],
   "source": [
    "def create_ones_matrix(rows, cols):\n",
    "    return np.ones((rows, cols))\n",
    "\n",
    "print(create_ones_matrix(3, 4))\n"
   ]
  },
  {
   "cell_type": "markdown",
   "id": "da8435a7-d498-4700-94b2-1de2b2d78cb0",
   "metadata": {},
   "source": [
    "####  13. Write a function generate_range_array that takes three integers start, stop, and step as arguments and creates a NumPy array with a range starting from start, ending at stop (exclusive), and with the specified step."
   ]
  },
  {
   "cell_type": "code",
   "execution_count": 14,
   "id": "ad58cc62-e4b8-4ce4-a524-bb71d2bc2f4b",
   "metadata": {},
   "outputs": [
    {
     "name": "stdout",
     "output_type": "stream",
     "text": [
      "[2 4 6 8]\n"
     ]
    }
   ],
   "source": [
    "def generate_range_array(start, stop, step):\n",
    "    return np.arange(start, stop, step)\n",
    "\n",
    "print(generate_range_array(2, 10, 2))\n"
   ]
  },
  {
   "cell_type": "markdown",
   "id": "83d75178-bac4-481d-9d66-48c302b8d5df",
   "metadata": {},
   "source": [
    "#### 14. Design a function generate_linear_space that takes two floats start, stop, and an integer num as arguments and generates a NumPy array with num equally spaced values between start and stop (inclusive)."
   ]
  },
  {
   "cell_type": "code",
   "execution_count": 15,
   "id": "0dc21951-d0f1-4a2b-a23f-730dd306828b",
   "metadata": {},
   "outputs": [
    {
     "name": "stdout",
     "output_type": "stream",
     "text": [
      "[0.   0.25 0.5  0.75 1.  ]\n"
     ]
    }
   ],
   "source": [
    "def generate_linear_space(start, stop, num):\n",
    "    return np.linspace(start, stop, num)\n",
    "\n",
    "print(generate_linear_space(0, 1, 5))\n"
   ]
  },
  {
   "cell_type": "markdown",
   "id": "dc84c7c7-c176-468d-9199-3714e08ef802",
   "metadata": {},
   "source": [
    "#### 15. Create a function create_identity_matrix that takes an integer n as input and generates a square identity matrix of size n x n using numpy.eye."
   ]
  },
  {
   "cell_type": "code",
   "execution_count": 16,
   "id": "7ad5c056-eb9c-420e-b56b-c68a91bae9a6",
   "metadata": {},
   "outputs": [
    {
     "name": "stdout",
     "output_type": "stream",
     "text": [
      "[[1. 0. 0.]\n",
      " [0. 1. 0.]\n",
      " [0. 0. 1.]]\n"
     ]
    }
   ],
   "source": [
    "def create_identity_matrix(n):\n",
    "    return np.eye(n)\n",
    "\n",
    "print(create_identity_matrix(3))\n"
   ]
  },
  {
   "cell_type": "markdown",
   "id": "7210eaaa-2298-4bae-8e39-0a31047c09f2",
   "metadata": {},
   "source": [
    "#### 16. Write a function that takes a Python list and converts it into a NumPy array.\n",
    " \n"
   ]
  },
  {
   "cell_type": "code",
   "execution_count": 17,
   "id": "04b3a990-23b5-4d8d-93c0-8837e3e0f0cf",
   "metadata": {},
   "outputs": [
    {
     "name": "stdout",
     "output_type": "stream",
     "text": [
      "[1 2 3 4]\n"
     ]
    }
   ],
   "source": [
    "def list_to_array(lst):\n",
    "    return np.array(lst)\n",
    "\n",
    "print(list_to_array([1, 2, 3, 4]))\n"
   ]
  },
  {
   "cell_type": "markdown",
   "id": "82c3863b-2a95-4580-bda0-891853e62796",
   "metadata": {},
   "source": [
    "#### 17. Create a NumPy array and demonstrate the use of numpy.view to create a new array object with the same data."
   ]
  },
  {
   "cell_type": "code",
   "execution_count": 18,
   "id": "dd2bf5e2-b122-40d2-820b-d6a1bc5f1592",
   "metadata": {},
   "outputs": [
    {
     "name": "stdout",
     "output_type": "stream",
     "text": [
      "Original: [1 2 3 4]\n",
      "View: [1 2 3 4]\n"
     ]
    }
   ],
   "source": [
    "arr = np.array([1, 2, 3, 4])\n",
    "view_arr = arr.view()\n",
    "\n",
    "print(\"Original:\", arr)\n",
    "print(\"View:\", view_arr)\n"
   ]
  },
  {
   "cell_type": "markdown",
   "id": "dc0120fd-d117-42aa-819b-0579b3b3629f",
   "metadata": {},
   "source": [
    "#### 18. Write a function that takes two NumPy arrays and concatenates them along a specified axis."
   ]
  },
  {
   "cell_type": "code",
   "execution_count": 19,
   "id": "763309ac-a40c-4531-918c-ce8fbae77966",
   "metadata": {},
   "outputs": [
    {
     "name": "stdout",
     "output_type": "stream",
     "text": [
      "[[1 2]\n",
      " [3 4]\n",
      " [5 6]\n",
      " [7 8]]\n"
     ]
    }
   ],
   "source": [
    "def concat_arrays(a, b, axis=0):\n",
    "    return np.concatenate((a, b), axis=axis)\n",
    "\n",
    "a = np.array([[1, 2], [3, 4]])\n",
    "b = np.array([[5, 6], [7, 8]])\n",
    "print(concat_arrays(a, b, axis=0))\n"
   ]
  },
  {
   "cell_type": "markdown",
   "id": "af22d85f-e41b-4236-b819-8995cb910c41",
   "metadata": {},
   "source": [
    "#### 19. Create two NumPy arrays with different shapes and concatenate them horizontally using numpy.concatenate.m"
   ]
  },
  {
   "cell_type": "code",
   "execution_count": 21,
   "id": "d8e271da-6171-48cd-9060-aa6a751f1e75",
   "metadata": {},
   "outputs": [
    {
     "name": "stdout",
     "output_type": "stream",
     "text": [
      "[[1 4 5]\n",
      " [2 6 7]\n",
      " [3 8 9]]\n"
     ]
    }
   ],
   "source": [
    "a = np.array([[1], [2], [3]])\n",
    "b = np.array([[4, 5], [6, 7], [8, 9]])\n",
    "result = np.concatenate((a, b), axis=1)\n",
    "print(result)\n"
   ]
  },
  {
   "cell_type": "markdown",
   "id": "aed91a8c-343f-41e7-927b-b559f944fad3",
   "metadata": {},
   "source": [
    "####  20. Write a function that vertically stacks multiple NumPy arrays given as a list.\n",
    " \n"
   ]
  },
  {
   "cell_type": "code",
   "execution_count": 22,
   "id": "0f43f78d-64fa-4f8c-8ea8-530a530068d9",
   "metadata": {},
   "outputs": [
    {
     "name": "stdout",
     "output_type": "stream",
     "text": [
      "[[1 2]\n",
      " [3 4]]\n"
     ]
    }
   ],
   "source": [
    "def vertical_stack(arrays):\n",
    "    return np.vstack(arrays)\n",
    "\n",
    "arr1 = np.array([1, 2])\n",
    "arr2 = np.array([3, 4])\n",
    "print(vertical_stack([arr1, arr2]))\n"
   ]
  },
  {
   "cell_type": "markdown",
   "id": "ef3d5ea4-84b4-499c-aeef-cb9c349b1f4e",
   "metadata": {},
   "source": [
    "#### 21. Write a Python function using NumPy to create an array of integers within a specified range (inclusive) with a given step size."
   ]
  },
  {
   "cell_type": "code",
   "execution_count": 23,
   "id": "27798e77-993d-4be6-b939-7f1d08c48041",
   "metadata": {},
   "outputs": [
    {
     "name": "stdout",
     "output_type": "stream",
     "text": [
      "[1 3 5 7 9]\n"
     ]
    }
   ],
   "source": [
    "def create_range_array(start, stop, step):\n",
    "    return np.arange(start, stop + 1, step)\n",
    "\n",
    "print(create_range_array(1, 10, 2))\n"
   ]
  },
  {
   "cell_type": "markdown",
   "id": "b4a6fa5d-b220-4729-bb25-58f6467bcb98",
   "metadata": {},
   "source": [
    "#### 22. Write a Python function using NumPy to generate an array of 10 equally spaced values between 0 and 1 (inclusive)."
   ]
  },
  {
   "cell_type": "code",
   "execution_count": 24,
   "id": "67bc7285-c7fd-4eaf-a6bf-522d49c20693",
   "metadata": {},
   "outputs": [
    {
     "name": "stdout",
     "output_type": "stream",
     "text": [
      "[0.         0.11111111 0.22222222 0.33333333 0.44444444 0.55555556\n",
      " 0.66666667 0.77777778 0.88888889 1.        ]\n"
     ]
    }
   ],
   "source": [
    "def equally_spaced():\n",
    "    return np.linspace(0, 1, 10)\n",
    "\n",
    "print(equally_spaced())\n"
   ]
  },
  {
   "cell_type": "markdown",
   "id": "5d8f0990-bde3-4fd5-8625-23ec10b496f7",
   "metadata": {},
   "source": [
    "####  23. Write a Python function using NumPy to create an array of 5 logarithmically spaced values between 1 and 1000 (inclusive)."
   ]
  },
  {
   "cell_type": "code",
   "execution_count": 25,
   "id": "5a2b2a83-9575-44ba-a6f6-bfaef3551d31",
   "metadata": {},
   "outputs": [
    {
     "name": "stdout",
     "output_type": "stream",
     "text": [
      "[   1.            5.62341325   31.6227766   177.827941   1000.        ]\n"
     ]
    }
   ],
   "source": [
    "def log_spaced_array():\n",
    "    return np.logspace(0, 3, 5)\n",
    "\n",
    "print(log_spaced_array())\n"
   ]
  },
  {
   "cell_type": "markdown",
   "id": "79f18002-dfb7-4b5b-ba88-40837f233f11",
   "metadata": {},
   "source": [
    "#### 24. Create a Pandas DataFrame using a NumPy array that contains 5 rows and 3 columns, where the values are random integers between 1 and 100.\n",
    " \n"
   ]
  },
  {
   "cell_type": "code",
   "execution_count": 27,
   "id": "39292e07-5f93-4ce3-9519-4d232eada77c",
   "metadata": {},
   "outputs": [
    {
     "name": "stdout",
     "output_type": "stream",
     "text": [
      "     A   B   C\n",
      "0   94  86  45\n",
      "1   89   1  12\n",
      "2  100  16  16\n",
      "3   75   3  93\n",
      "4   71  62  80\n"
     ]
    }
   ],
   "source": [
    "import pandas as pd\n",
    "\n",
    "data = np.random.randint(1, 101, size=(5, 3))\n",
    "df = pd.DataFrame(data, columns=[\"A\", \"B\", \"C\"])\n",
    "print(df)\n"
   ]
  },
  {
   "cell_type": "markdown",
   "id": "98fbadb9-ec82-4c9f-b98f-5e4bfeeabee5",
   "metadata": {},
   "source": [
    "#### 25. Write a function that takes a Pandas DataFrame and replaces all negative values in a specific column with zeros. Use NumPy operations within the Pandas DataFrame."
   ]
  },
  {
   "cell_type": "code",
   "execution_count": 28,
   "id": "58c6b0a1-ff4b-4fbe-a49f-5199f46eb4ee",
   "metadata": {},
   "outputs": [
    {
     "name": "stdout",
     "output_type": "stream",
     "text": [
      "   val\n",
      "0   10\n",
      "1    0\n",
      "2   20\n",
      "3    0\n"
     ]
    }
   ],
   "source": [
    "def replace_negatives(df, column):\n",
    "    df[column] = np.where(df[column] < 0, 0, df[column])\n",
    "    return df\n",
    "\n",
    "df = pd.DataFrame({'val': [10, -5, 20, -3]})\n",
    "print(replace_negatives(df, 'val'))\n"
   ]
  },
  {
   "cell_type": "markdown",
   "id": "c86a760a-61df-4c9f-82d7-cb871898843c",
   "metadata": {},
   "source": [
    "####  26. Access the 3rd element from the given NumPy array."
   ]
  },
  {
   "cell_type": "code",
   "execution_count": 29,
   "id": "b16d52f7-5934-4b8c-9855-7e2e0d2369de",
   "metadata": {},
   "outputs": [
    {
     "name": "stdout",
     "output_type": "stream",
     "text": [
      "30\n"
     ]
    }
   ],
   "source": [
    "arr = np.array([10, 20, 30, 40, 50])\n",
    "print(arr[2])"
   ]
  },
  {
   "cell_type": "markdown",
   "id": "caf4445f-e840-422b-8ca6-e7cfdeb938e1",
   "metadata": {},
   "source": [
    "####  27. Retrieve the element at index (1, 2) from the 2D NumPy array."
   ]
  },
  {
   "cell_type": "code",
   "execution_count": 30,
   "id": "db68d53a-4aa2-4a11-ba2e-a5f1633cd56d",
   "metadata": {},
   "outputs": [
    {
     "name": "stdout",
     "output_type": "stream",
     "text": [
      "6\n"
     ]
    }
   ],
   "source": [
    "arr = np.array([[1, 2, 3],\n",
    "                [4, 5, 6],\n",
    "                [7, 8, 9]])\n",
    "print(arr[1, 2])\n"
   ]
  },
  {
   "cell_type": "markdown",
   "id": "028c3ced-c7c9-479f-81fe-c6a851b41a39",
   "metadata": {},
   "source": [
    "#### 28. Using boolean indexing, extract elements greater than 5 from the given NumPy array."
   ]
  },
  {
   "cell_type": "code",
   "execution_count": 31,
   "id": "8cf342cf-9658-4608-a345-37094177e089",
   "metadata": {},
   "outputs": [
    {
     "name": "stdout",
     "output_type": "stream",
     "text": [
      "[ 8 10  7]\n"
     ]
    }
   ],
   "source": [
    "arr = np.array([3, 8, 2, 10, 5, 7])\n",
    "print(arr[arr > 5])\n"
   ]
  },
  {
   "cell_type": "markdown",
   "id": "681f0376-b53f-4848-aa04-70846ac35b56",
   "metadata": {},
   "source": [
    "####  29. Perform basic slicing to extract elements from index 2 to 5 (inclusive) from the given NumPy array.\n",
    " \n"
   ]
  },
  {
   "cell_type": "code",
   "execution_count": 32,
   "id": "497b0ab5-b28a-489c-98d1-24bc7c4e0cb8",
   "metadata": {},
   "outputs": [
    {
     "name": "stdout",
     "output_type": "stream",
     "text": [
      "[3 4 5 6]\n"
     ]
    }
   ],
   "source": [
    "arr = np.array([1, 2, 3, 4, 5, 6, 7, 8, 9])\n",
    "print(arr[2:6])\n"
   ]
  },
  {
   "cell_type": "markdown",
   "id": "f77627f9-defa-45e4-8e89-d4cc237d884b",
   "metadata": {},
   "source": [
    "#### 30. Slice the 2D NumPy array to extract the sub-array [[2, 3], [5, 6]] from the given array."
   ]
  },
  {
   "cell_type": "code",
   "execution_count": 33,
   "id": "0cc545f8-edfe-4b6e-acd1-53aafb0fa32a",
   "metadata": {},
   "outputs": [
    {
     "name": "stdout",
     "output_type": "stream",
     "text": [
      "[[2 3]\n",
      " [5 6]]\n"
     ]
    }
   ],
   "source": [
    "arr_2d = np.array([[1, 2, 3],\n",
    "                   [4, 5, 6],\n",
    "                   [7, 8, 9]])\n",
    "sub_array = arr_2d[0:2, 1:3]\n",
    "print(sub_array)\n"
   ]
  },
  {
   "cell_type": "markdown",
   "id": "16d97bca-efcf-4b06-9120-cad8fc7a50aa",
   "metadata": {},
   "source": [
    "####  31. Write a NumPy function to extract elements in specific order from a given 2D array based on indices provided in another array."
   ]
  },
  {
   "cell_type": "code",
   "execution_count": 34,
   "id": "856dd967-9fe0-4dc2-8ca2-7043af9e7b54",
   "metadata": {},
   "outputs": [
    {
     "name": "stdout",
     "output_type": "stream",
     "text": [
      "[20 60 70]\n"
     ]
    }
   ],
   "source": [
    "def extract_elements_with_indices(arr, indices):\n",
    "    return arr[tuple(indices.T)]\n",
    "\n",
    "arr = np.array([[10, 20, 30],\n",
    "                [40, 50, 60],\n",
    "                [70, 80, 90]])\n",
    "\n",
    "indices = np.array([[0, 1], [1, 2], [2, 0]])  # Extract: 20, 60, 70\n",
    "print(extract_elements_with_indices(arr, indices))\n"
   ]
  },
  {
   "cell_type": "markdown",
   "id": "12615fa5-ee01-4e15-86f5-417f3b9383f9",
   "metadata": {},
   "source": [
    "#### 32. Create a NumPy function that filters elements greater than a threshold from a given 1D array using boolean indexing.\n",
    " \n"
   ]
  },
  {
   "cell_type": "code",
   "execution_count": 35,
   "id": "bb7dd7d5-b285-4d0b-9cfb-e7b75e37c60b",
   "metadata": {},
   "outputs": [
    {
     "name": "stdout",
     "output_type": "stream",
     "text": [
      "[ 8 10]\n"
     ]
    }
   ],
   "source": [
    "def filter_greater_than(arr, threshold):\n",
    "    return arr[arr > threshold]\n",
    "\n",
    "arr = np.array([3, 8, 1, 10, 5])\n",
    "print(filter_greater_than(arr, 5))\n"
   ]
  },
  {
   "cell_type": "markdown",
   "id": "b4060970-9369-41ae-9369-bb3e0576eb77",
   "metadata": {},
   "source": [
    "#### 33. Develop a NumPy function that extracts specific elements from a 3D array using indices provided in three separate arrays for each dimension.\n",
    " "
   ]
  },
  {
   "cell_type": "code",
   "execution_count": 36,
   "id": "d78cbb8e-0049-42e1-964d-53a5bb7a2608",
   "metadata": {},
   "outputs": [
    {
     "name": "stdout",
     "output_type": "stream",
     "text": [
      "[ 5 12 22]\n"
     ]
    }
   ],
   "source": [
    "def extract_from_3d(arr, x_idx, y_idx, z_idx):\n",
    "    return arr[x_idx, y_idx, z_idx]\n",
    "\n",
    "arr = np.arange(27).reshape(3, 3, 3)\n",
    "x = np.array([0, 1, 2])\n",
    "y = np.array([1, 1, 1])\n",
    "z = np.array([2, 0, 1])\n",
    "\n",
    "print(extract_from_3d(arr, x, y, z))\n"
   ]
  },
  {
   "cell_type": "markdown",
   "id": "443503dd-f87c-42c9-9868-1d1b4c51becc",
   "metadata": {},
   "source": [
    "#### 34. Write a NumPy function that returns elements from an array where both two conditions are satisfied using boolean indexing.\n",
    " \n"
   ]
  },
  {
   "cell_type": "code",
   "execution_count": 37,
   "id": "de8dae87-ed49-481d-8ca8-f5087d457f63",
   "metadata": {},
   "outputs": [
    {
     "name": "stdout",
     "output_type": "stream",
     "text": [
      "[12 24]\n"
     ]
    }
   ],
   "source": [
    "def filter_multiple_conditions(arr):\n",
    "    return arr[(arr > 10) & (arr % 2 == 0)]\n",
    "\n",
    "arr = np.array([5, 12, 17, 8, 24, 3])\n",
    "print(filter_multiple_conditions(arr))\n"
   ]
  },
  {
   "cell_type": "markdown",
   "id": "bf8c491d-6ada-4e1f-8778-306b6ff54222",
   "metadata": {},
   "source": [
    "####  35. Create a NumPy function that extracts elements from a 2D array using row and column indices provided in separate arrays."
   ]
  },
  {
   "cell_type": "code",
   "execution_count": 38,
   "id": "a9317063-67af-467d-9126-880cbebb8452",
   "metadata": {},
   "outputs": [
    {
     "name": "stdout",
     "output_type": "stream",
     "text": [
      "[30 50 70]\n"
     ]
    }
   ],
   "source": [
    "def extract_with_row_col(arr, row_idx, col_idx):\n",
    "    return arr[row_idx, col_idx]\n",
    "\n",
    "arr = np.array([[10, 20, 30],\n",
    "                [40, 50, 60],\n",
    "                [70, 80, 90]])\n",
    "\n",
    "rows = np.array([0, 1, 2])\n",
    "cols = np.array([2, 1, 0])\n",
    "\n",
    "print(extract_with_row_col(arr, rows, cols))  # 30, 50, 70\n"
   ]
  },
  {
   "cell_type": "markdown",
   "id": "00ee2cba-8bd1-4868-87b2-a4416abed1ce",
   "metadata": {},
   "source": [
    "#### 36. Given an array arr of shape (3, 3), add a scalar value of 5 to each element using NumPy broadcasting."
   ]
  },
  {
   "cell_type": "code",
   "execution_count": 39,
   "id": "8f550b4e-a57a-4194-a481-52babac82520",
   "metadata": {},
   "outputs": [
    {
     "name": "stdout",
     "output_type": "stream",
     "text": [
      "[[ 6  7  8]\n",
      " [ 9 10 11]\n",
      " [12 13 14]]\n"
     ]
    }
   ],
   "source": [
    "arr = np.array([[1, 2, 3],\n",
    "                [4, 5, 6],\n",
    "                [7, 8, 9]])\n",
    "\n",
    "arr_added = arr + 5\n",
    "print(arr_added)\n"
   ]
  },
  {
   "cell_type": "markdown",
   "id": "580d7a2b-288d-4747-8cec-47eae0efb45e",
   "metadata": {},
   "source": [
    "####  37. Consider two arrays arr1 of shape (1, 3) and arr2 of shape (3, 4). Multiply each row of arr2 by the corresponding element in arr1 using NumPy broadcasting."
   ]
  },
  {
   "cell_type": "code",
   "execution_count": 40,
   "id": "eb8a841f-2e23-4b8f-a651-9fa7f794a706",
   "metadata": {},
   "outputs": [
    {
     "name": "stdout",
     "output_type": "stream",
     "text": [
      "[[ 2  4  6  8]\n",
      " [15 18 21 24]\n",
      " [36 40 44 48]]\n"
     ]
    }
   ],
   "source": [
    "arr1 = np.array([[2, 3, 4]])  # shape (1,3)\n",
    "arr2 = np.array([[1, 2, 3, 4],\n",
    "                 [5, 6, 7, 8],\n",
    "                 [9,10,11,12]])  # shape (3,4)\n",
    "\n",
    "# Transpose arr1 for broadcasting\n",
    "result = arr2 * arr1.T\n",
    "print(result)\n"
   ]
  },
  {
   "cell_type": "markdown",
   "id": "ed13ecd8-0c54-4c93-b4f6-971e3359d74e",
   "metadata": {},
   "source": [
    "####  38. Given a 1D array arr1 of shape (1, 4) and a 2D array arr2 of shape (4, 3), add arr1 to each row of arr2 using NumPy broadcasting."
   ]
  },
  {
   "cell_type": "code",
   "execution_count": 41,
   "id": "b1d803f3-8094-4756-991a-d8b5f65142e1",
   "metadata": {},
   "outputs": [
    {
     "name": "stdout",
     "output_type": "stream",
     "text": [
      "[[ 6  7  8  9]\n",
      " [ 7  8  9 10]\n",
      " [ 8  9 10 11]\n",
      " [ 9 10 11 12]]\n"
     ]
    }
   ],
   "source": [
    "arr1 = np.array([[1, 2, 3, 4]])  # (1, 4)\n",
    "arr2 = np.array([[5], [6], [7], [8]])  # (4,1)\n",
    "\n",
    "result = arr1 + arr2  # Shape (4,4)\n",
    "print(result)\n"
   ]
  },
  {
   "cell_type": "markdown",
   "id": "30369f2b-5dab-4f93-853d-ae2449fce0d7",
   "metadata": {},
   "source": [
    "#### 39. Consider two arrays arr1 of shape (3, 1) and arr2 of shape (1, 3). Add these arrays using NumPy broadcasting."
   ]
  },
  {
   "cell_type": "code",
   "execution_count": 42,
   "id": "de67feb7-7110-4bfb-8cb4-31dbb5c4cd78",
   "metadata": {},
   "outputs": [
    {
     "name": "stdout",
     "output_type": "stream",
     "text": [
      "[[5 6 7]\n",
      " [6 7 8]\n",
      " [7 8 9]]\n"
     ]
    }
   ],
   "source": [
    "arr1 = np.array([[1], [2], [3]])  # shape (3,1)\n",
    "arr2 = np.array([[4, 5, 6]])      # shape (1,3)\n",
    "\n",
    "result = arr1 + arr2\n",
    "print(result)\n"
   ]
  },
  {
   "cell_type": "markdown",
   "id": "12c6ceac-d9e6-4b3c-b3c7-f72b30fadf5e",
   "metadata": {},
   "source": [
    "#### 40. Given arrays arr1 of shape (2, 3) and arr2 of shape (2, 2), perform multiplication using NumPy broadcasting. Handle the shape incompatibility.\n",
    " "
   ]
  },
  {
   "cell_type": "code",
   "execution_count": 43,
   "id": "fda35e84-6794-4aa8-aad0-b3354debae92",
   "metadata": {},
   "outputs": [
    {
     "name": "stdout",
     "output_type": "stream",
     "text": [
      "Error: operands could not be broadcast together with shapes (2,3) (2,2) \n"
     ]
    }
   ],
   "source": [
    "arr1 = np.array([[1, 2, 3], [4, 5, 6]])  # shape (2, 3)\n",
    "arr2 = np.array([[1, 2], [3, 4]])       # shape (2, 2)\n",
    "\n",
    "try:\n",
    "    result = arr1 * arr2\n",
    "    print(result)\n",
    "except ValueError as e:\n",
    "    print(\"Error:\", e)\n"
   ]
  },
  {
   "cell_type": "markdown",
   "id": "880dd70e-9de8-41f4-a102-62fa9e17ea12",
   "metadata": {},
   "source": [
    "#### 41. Calculate column-wise mean for the given array:\n",
    " "
   ]
  },
  {
   "cell_type": "code",
   "execution_count": 44,
   "id": "f707e35a-83df-430f-b2ef-5b8ed9833adf",
   "metadata": {},
   "outputs": [
    {
     "name": "stdout",
     "output_type": "stream",
     "text": [
      "Column-wise Mean: [2.5 3.5 4.5]\n"
     ]
    }
   ],
   "source": [
    "arr = np.array([[1, 2, 3], [4, 5, 6]])\n",
    "column_mean = np.mean(arr, axis=0)\n",
    "print(\"Column-wise Mean:\", column_mean)\n"
   ]
  },
  {
   "cell_type": "markdown",
   "id": "7b3755c1-8b11-4945-af72-484fdf136ce2",
   "metadata": {},
   "source": [
    "#### 42. Find maximum value in each row of the given array:"
   ]
  },
  {
   "cell_type": "code",
   "execution_count": 45,
   "id": "f0e87831-4d04-4be1-a47d-1966efb10c46",
   "metadata": {},
   "outputs": [
    {
     "name": "stdout",
     "output_type": "stream",
     "text": [
      "Max in each row: [3 6]\n"
     ]
    }
   ],
   "source": [
    "arr = np.array([[1, 2, 3], [4, 5, 6]])\n",
    "row_max = np.max(arr, axis=1)\n",
    "print(\"Max in each row:\", row_max)\n"
   ]
  },
  {
   "cell_type": "markdown",
   "id": "4fd018b1-b3fc-441b-b2d5-6b2e445358bb",
   "metadata": {},
   "source": [
    "####  43. For the given array, find indices of maximum value in each column:\n",
    " \n"
   ]
  },
  {
   "cell_type": "code",
   "execution_count": 46,
   "id": "a02023c6-f69a-424f-8fe6-068e7f20df9f",
   "metadata": {},
   "outputs": [
    {
     "name": "stdout",
     "output_type": "stream",
     "text": [
      "Indices of max in each column: [1 1 1]\n"
     ]
    }
   ],
   "source": [
    "arr = np.array([[1, 2, 3], [4, 5, 6]])\n",
    "max_indices = np.argmax(arr, axis=0)\n",
    "print(\"Indices of max in each column:\", max_indices)\n"
   ]
  },
  {
   "cell_type": "markdown",
   "id": "f82eca86-9966-482e-b166-7ce65373d81d",
   "metadata": {},
   "source": [
    "#### 44. For the given array, apply custom function to calculate moving sum along rows:"
   ]
  },
  {
   "cell_type": "code",
   "execution_count": 48,
   "id": "4cc467f8-f4f0-49bc-9c67-e8fef2ef1894",
   "metadata": {},
   "outputs": [
    {
     "name": "stdout",
     "output_type": "stream",
     "text": [
      "Moving sum along rows:\n",
      " [[ 1  3  6]\n",
      " [ 4  9 15]]\n"
     ]
    }
   ],
   "source": [
    "def moving_sum(arr):\n",
    "    return np.cumsum(arr, axis=1)\n",
    "\n",
    "arr = np.array([[1, 2, 3], [4, 5, 6]])\n",
    "print(\"Moving sum along rows:\\n\", moving_sum(arr))\n"
   ]
  },
  {
   "cell_type": "markdown",
   "id": "f272b6e2-dff8-4292-9f41-706df492fe4c",
   "metadata": {},
   "source": [
    "#### 45. In the given array, check if all elements in each column are even."
   ]
  },
  {
   "cell_type": "code",
   "execution_count": 49,
   "id": "cdf46ef5-f47b-47a2-9dc4-34bbd69c02a5",
   "metadata": {},
   "outputs": [
    {
     "name": "stdout",
     "output_type": "stream",
     "text": [
      "All elements even in each column: [False False False]\n"
     ]
    }
   ],
   "source": [
    "arr = np.array([[2, 4, 6], [3, 5, 7]])\n",
    "all_even = np.all(arr % 2 == 0, axis=0)\n",
    "print(\"All elements even in each column:\", all_even)\n"
   ]
  },
  {
   "cell_type": "markdown",
   "id": "5e0b8b7c-ee75-465d-9f65-7deb2cfdd36a",
   "metadata": {},
   "source": [
    "#### 46. Given a NumPy array arr, reshape it into a matrix of dimensions m rows and n columns. Return the reshaped matrix.\n",
    " "
   ]
  },
  {
   "cell_type": "code",
   "execution_count": 50,
   "id": "48416dc3-c012-445a-abee-9a9e45a0c871",
   "metadata": {},
   "outputs": [
    {
     "name": "stdout",
     "output_type": "stream",
     "text": [
      "[[1 2 3]\n",
      " [4 5 6]]\n"
     ]
    }
   ],
   "source": [
    "def reshape_array(arr, m, n):\n",
    "    return arr.reshape((m, n))\n",
    "\n",
    "arr = np.array([1, 2, 3, 4, 5, 6])\n",
    "print(reshape_array(arr, 2, 3))\n"
   ]
  },
  {
   "cell_type": "markdown",
   "id": "3da4d8d0-bcdf-470a-8d49-d1233ce7bb18",
   "metadata": {},
   "source": [
    "#### 47. Create a function that takes a matrix as input and returns the flattened array."
   ]
  },
  {
   "cell_type": "code",
   "execution_count": 51,
   "id": "1e905d6e-79c1-447c-8ac4-4d30befb1ab3",
   "metadata": {},
   "outputs": [
    {
     "name": "stdout",
     "output_type": "stream",
     "text": [
      "[1 2 3 4]\n"
     ]
    }
   ],
   "source": [
    "def flatten_matrix(matrix):\n",
    "    return matrix.flatten()\n",
    "\n",
    "matrix = np.array([[1, 2], [3, 4]])\n",
    "print(flatten_matrix(matrix))\n"
   ]
  },
  {
   "cell_type": "markdown",
   "id": "057ccf2e-a39c-4625-90cf-ed375908fa57",
   "metadata": {},
   "source": [
    "#### 48. Write a function that concatenates two given arrays along a specified axis.\n",
    " \n"
   ]
  },
  {
   "cell_type": "code",
   "execution_count": 52,
   "id": "7d62d4a8-9979-4700-b157-87385fefba81",
   "metadata": {},
   "outputs": [
    {
     "name": "stdout",
     "output_type": "stream",
     "text": [
      "[[1 2]\n",
      " [3 4]\n",
      " [5 6]\n",
      " [7 8]]\n"
     ]
    }
   ],
   "source": [
    "def concatenate_arrays(arr1, arr2, axis):\n",
    "    return np.concatenate((arr1, arr2), axis=axis)\n",
    "\n",
    "arr1 = np.array([[1, 2], [3, 4]])\n",
    "arr2 = np.array([[5, 6], [7, 8]])\n",
    "print(concatenate_arrays(arr1, arr2, axis=0))\n"
   ]
  },
  {
   "cell_type": "markdown",
   "id": "37a56c3c-6edd-4773-9fda-21fac0624d4b",
   "metadata": {},
   "source": [
    "#### 49. Create a function that splits an array into multiple sub-arrays along a specified axis."
   ]
  },
  {
   "cell_type": "code",
   "execution_count": 53,
   "id": "40fbdc8b-909a-4d59-a0f4-335eca2d0d50",
   "metadata": {},
   "outputs": [
    {
     "name": "stdout",
     "output_type": "stream",
     "text": [
      "Split 1:\n",
      " [[1 2]\n",
      " [5 6]]\n",
      "Split 2:\n",
      " [[3 4]\n",
      " [7 8]]\n"
     ]
    }
   ],
   "source": [
    "def split_array(arr, sections, axis):\n",
    "    return np.array_split(arr, sections, axis=axis)\n",
    "\n",
    "arr = np.array([[1, 2, 3, 4], [5, 6, 7, 8]])\n",
    "splits = split_array(arr, 2, axis=1)\n",
    "for i, s in enumerate(splits):\n",
    "    print(f\"Split {i+1}:\\n\", s)\n"
   ]
  },
  {
   "cell_type": "markdown",
   "id": "0f75a71a-a205-4b23-8451-4db06b4a12c1",
   "metadata": {},
   "source": [
    "####  50. Write a function that inserts and then deletes elements from a given array at specified indices.\n",
    " "
   ]
  },
  {
   "cell_type": "code",
   "execution_count": 54,
   "id": "62098800-0b60-4da2-b37f-ed395e6873d7",
   "metadata": {},
   "outputs": [
    {
     "name": "stdout",
     "output_type": "stream",
     "text": [
      "[ 1 10  4 11  5]\n"
     ]
    }
   ],
   "source": [
    "def insert_and_delete(arr, insert_indices, insert_values, delete_indices):\n",
    "    arr = np.insert(arr, insert_indices, insert_values)\n",
    "    arr = np.delete(arr, delete_indices)\n",
    "    return arr\n",
    "\n",
    "original_array = np.array([1, 2, 3, 4, 5])\n",
    "insert_indices = [2, 4]\n",
    "insert_values = [10, 11]\n",
    "delete_indices = [1, 3]\n",
    "print(insert_and_delete(original_array, insert_indices, insert_values, delete_indices))\n"
   ]
  },
  {
   "cell_type": "markdown",
   "id": "99f47028-ed57-4717-a378-b1f69887ae84",
   "metadata": {},
   "source": [
    "#### 51. Create a NumPy array arr1 with random integers and another array arr2 with integers from 1 to 10. Perform element-wise addition between arr1 and arr2."
   ]
  },
  {
   "cell_type": "code",
   "execution_count": 55,
   "id": "2778bf3c-3e93-445e-8566-082fc7cbe94c",
   "metadata": {},
   "outputs": [
    {
     "name": "stdout",
     "output_type": "stream",
     "text": [
      "arr1: [48  3 44 15 37 45 28 30 46 18]\n",
      "arr2: [ 1  2  3  4  5  6  7  8  9 10]\n",
      "Sum: [49  5 47 19 42 51 35 38 55 28]\n"
     ]
    }
   ],
   "source": [
    "arr1 = np.random.randint(1, 50, size=10)\n",
    "arr2 = np.arange(1, 11)\n",
    "result = arr1 + arr2\n",
    "print(\"arr1:\", arr1)\n",
    "print(\"arr2:\", arr2)\n",
    "print(\"Sum:\", result)\n"
   ]
  },
  {
   "cell_type": "markdown",
   "id": "258b2102-e20d-44fc-941c-e85677411d0f",
   "metadata": {},
   "source": [
    "####  52. Generate a NumPy array arr1 with sequential integers from 10 to 1 and another array arr2 with integers from 1 to 10. Subtract arr2 from arr1 element-wise."
   ]
  },
  {
   "cell_type": "code",
   "execution_count": 56,
   "id": "d035041f-7297-49bf-b84b-6288a7512e43",
   "metadata": {},
   "outputs": [
    {
     "name": "stdout",
     "output_type": "stream",
     "text": [
      "Subtraction: [ 9  7  5  3  1 -1 -3 -5 -7 -9]\n"
     ]
    }
   ],
   "source": [
    "arr1 = np.arange(10, 0, -1)\n",
    "arr2 = np.arange(1, 11)\n",
    "result = arr1 - arr2\n",
    "print(\"Subtraction:\", result)\n"
   ]
  },
  {
   "cell_type": "markdown",
   "id": "2c85adfe-87f4-4888-8471-812ab1702402",
   "metadata": {},
   "source": [
    "#### 53. Create a NumPy array arr1 with random integers and another array arr2 with integers from 1 to 5. Perform element-wise multiplication between arr1 and arr2.\n",
    " \n"
   ]
  },
  {
   "cell_type": "code",
   "execution_count": 57,
   "id": "042b737f-f836-41b0-a696-86b762c2a652",
   "metadata": {},
   "outputs": [
    {
     "name": "stdout",
     "output_type": "stream",
     "text": [
      "Multiplication: [ 9 16 15 16 25]\n"
     ]
    }
   ],
   "source": [
    "arr1 = np.random.randint(1, 10, size=5)\n",
    "arr2 = np.arange(1, 6)\n",
    "result = arr1 * arr2\n",
    "print(\"Multiplication:\", result)\n"
   ]
  },
  {
   "cell_type": "markdown",
   "id": "a7f789b3-486b-46f3-bbb6-7c8ca1783955",
   "metadata": {},
   "source": [
    "####  54. Generate a NumPy array arr1 with even integers from 2 to 10 and another array arr2 with integers from 1 to 5. Perform element-wise division of arr1 by arr2."
   ]
  },
  {
   "cell_type": "code",
   "execution_count": 58,
   "id": "bf8212ef-0229-4f6d-92df-bd25b89e9c61",
   "metadata": {},
   "outputs": [
    {
     "name": "stdout",
     "output_type": "stream",
     "text": [
      "Division: [2. 2. 2. 2. 2.]\n"
     ]
    }
   ],
   "source": [
    "arr1 = np.arange(2, 11, 2)  # [2, 4, 6, 8, 10]\n",
    "arr2 = np.arange(1, 6)\n",
    "result = arr1 / arr2\n",
    "print(\"Division:\", result)\n"
   ]
  },
  {
   "cell_type": "markdown",
   "id": "5106ae17-93c6-4e4a-82e5-dc18629b7e21",
   "metadata": {},
   "source": [
    "#### 55. Create a NumPy array arr1 with integers from 1 to 5 and another array arr2 with the same numbers reversed. Calculate the exponentiation of arr1 raised to the power of arr2 element-wise."
   ]
  },
  {
   "cell_type": "code",
   "execution_count": 59,
   "id": "6f4fe1ae-bf7c-4e89-81bc-4be99c077b7d",
   "metadata": {},
   "outputs": [
    {
     "name": "stdout",
     "output_type": "stream",
     "text": [
      "Exponentiation: [ 1 16 27 16  5]\n"
     ]
    }
   ],
   "source": [
    "arr1 = np.array([1, 2, 3, 4, 5])\n",
    "arr2 = arr1[::-1]\n",
    "result = arr1 ** arr2\n",
    "print(\"Exponentiation:\", result)\n"
   ]
  },
  {
   "cell_type": "markdown",
   "id": "a9ae6271-bfb9-46c5-ab29-6cd378f19e16",
   "metadata": {},
   "source": [
    "####  56. Write a function that counts the occurrences of a specific substring within a NumPy array of strings."
   ]
  },
  {
   "cell_type": "code",
   "execution_count": 60,
   "id": "9fd7d93d-f047-4c89-8a0c-8310492b6d61",
   "metadata": {},
   "outputs": [
    {
     "name": "stdout",
     "output_type": "stream",
     "text": [
      "Count: 3\n"
     ]
    }
   ],
   "source": [
    "def count_substring(arr, substring):\n",
    "    return np.char.count(arr, substring).sum()\n",
    "\n",
    "arr = np.array(['hello', 'world', 'hello', 'numpy', 'hello'])\n",
    "print(\"Count:\", count_substring(arr, 'hello'))\n"
   ]
  },
  {
   "cell_type": "markdown",
   "id": "b44aef3c-e4f3-4e9c-8da9-511781394425",
   "metadata": {},
   "source": [
    "####  57. Write a function that extracts uppercase characters from a NumPy array of strings."
   ]
  },
  {
   "cell_type": "code",
   "execution_count": 61,
   "id": "6e059475-0b63-4d06-8485-fe14f2ac79e9",
   "metadata": {},
   "outputs": [
    {
     "name": "stdout",
     "output_type": "stream",
     "text": [
      "Uppercase characters: ['H', 'W', 'OAI', 'GPT']\n"
     ]
    }
   ],
   "source": [
    "def extract_uppercase(arr):\n",
    "    return [ ''.join(filter(str.isupper, word)) for word in arr ]\n",
    "\n",
    "arr = np.array(['Hello', 'World', 'OpenAI', 'GPT'])\n",
    "print(\"Uppercase characters:\", extract_uppercase(arr))\n"
   ]
  },
  {
   "cell_type": "markdown",
   "id": "b7e1af57-6f65-4366-ada5-d4d978a0ac3f",
   "metadata": {},
   "source": [
    "#### 58. Write a function that replaces occurrences of a substring in a NumPy array of strings with a new string."
   ]
  },
  {
   "cell_type": "code",
   "execution_count": 62,
   "id": "d6eb5888-d0db-46ec-a935-ca13de4893f6",
   "metadata": {},
   "outputs": [
    {
     "name": "stdout",
     "output_type": "stream",
     "text": [
      "['fruit' 'banana' 'grape' 'pinefruit']\n"
     ]
    }
   ],
   "source": [
    "def replace_substring(arr, old, new):\n",
    "    return np.char.replace(arr, old, new)\n",
    "\n",
    "arr = np.array(['apple', 'banana', 'grape', 'pineapple'])\n",
    "print(replace_substring(arr, 'apple', 'fruit'))\n"
   ]
  },
  {
   "cell_type": "markdown",
   "id": "f190ec3a-fe9d-497a-8d05-f5014fe41681",
   "metadata": {},
   "source": [
    "#### 59. Write a function that concatenates strings in a NumPy array element-wise."
   ]
  },
  {
   "cell_type": "code",
   "execution_count": 63,
   "id": "81cd23b5-e353-4995-b03b-e96ac43bee89",
   "metadata": {},
   "outputs": [
    {
     "name": "stdout",
     "output_type": "stream",
     "text": [
      "['HelloOpen' 'WorldAI']\n"
     ]
    }
   ],
   "source": [
    "def concat_strings(arr1, arr2):\n",
    "    return np.char.add(arr1, arr2)\n",
    "\n",
    "arr1 = np.array(['Hello', 'World'])\n",
    "arr2 = np.array(['Open', 'AI'])\n",
    "print(concat_strings(arr1, arr2))\n"
   ]
  },
  {
   "cell_type": "markdown",
   "id": "96ee2217-be8e-40d3-8b17-e69d418db3ec",
   "metadata": {},
   "source": [
    "#### 60. Write a function that finds the length of the longest string in a NumPy array.\n",
    " "
   ]
  },
  {
   "cell_type": "code",
   "execution_count": 64,
   "id": "10ac8026-f26b-44c1-99fc-ecd07d338837",
   "metadata": {},
   "outputs": [
    {
     "name": "stdout",
     "output_type": "stream",
     "text": [
      "Max length: 9\n"
     ]
    }
   ],
   "source": [
    "def max_string_length(arr):\n",
    "    return max(np.char.str_len(arr))\n",
    "\n",
    "arr = np.array(['apple', 'banana', 'grape', 'pineapple'])\n",
    "print(\"Max length:\", max_string_length(arr))\n"
   ]
  },
  {
   "cell_type": "markdown",
   "id": "d8938f66-f4cf-4794-b9c8-0c7168e135e8",
   "metadata": {},
   "source": [
    "#### 61. Create a dataset of 100 random integers between 1 and 1000. Compute the mean, median, variance, and standard deviation using NumPy's functions."
   ]
  },
  {
   "cell_type": "code",
   "execution_count": 65,
   "id": "ab6ec8da-8fc0-4b69-b45b-2a7dbe9c7ff0",
   "metadata": {},
   "outputs": [
    {
     "name": "stdout",
     "output_type": "stream",
     "text": [
      "Mean: 523.55\n",
      "Median: 584.0\n",
      "Variance: 88176.0675\n",
      "Std Dev: 296.94455290508364\n"
     ]
    }
   ],
   "source": [
    "arr = np.random.randint(1, 1001, size=100)\n",
    "print(\"Mean:\", np.mean(arr))\n",
    "print(\"Median:\", np.median(arr))\n",
    "print(\"Variance:\", np.var(arr))\n",
    "print(\"Std Dev:\", np.std(arr))\n"
   ]
  },
  {
   "cell_type": "markdown",
   "id": "5b2a3c5a-d317-4228-9b2f-5bfc0f97c2f0",
   "metadata": {},
   "source": [
    "####  62. Generate an array of 50 random numbers between 1 and 100. Find the 25th and 75th percentiles of the dataset."
   ]
  },
  {
   "cell_type": "code",
   "execution_count": 66,
   "id": "d3774188-47b4-4f50-885e-58cbc70002aa",
   "metadata": {},
   "outputs": [
    {
     "name": "stdout",
     "output_type": "stream",
     "text": [
      "25th percentile: 24.25\n",
      "75th percentile: 78.75\n"
     ]
    }
   ],
   "source": [
    "arr = np.random.randint(1, 101, size=50)\n",
    "print(\"25th percentile:\", np.percentile(arr, 25))\n",
    "print(\"75th percentile:\", np.percentile(arr, 75))\n"
   ]
  },
  {
   "cell_type": "markdown",
   "id": "1d685927-c121-427a-a83d-9c69dfe77f30",
   "metadata": {},
   "source": [
    "####  63. Create two arrays representing two sets of variables. Compute the correlation coefficient between these arrays using NumPy's corrcoef function."
   ]
  },
  {
   "cell_type": "code",
   "execution_count": 67,
   "id": "1f50f74c-2173-4315-80c1-67dfa6160020",
   "metadata": {},
   "outputs": [
    {
     "name": "stdout",
     "output_type": "stream",
     "text": [
      "Correlation coefficient matrix:\n",
      " [[ 1.         -0.15973818]\n",
      " [-0.15973818  1.        ]]\n"
     ]
    }
   ],
   "source": [
    "x = np.random.randint(1, 100, size=10)\n",
    "y = np.random.randint(1, 100, size=10)\n",
    "corr = np.corrcoef(x, y)\n",
    "print(\"Correlation coefficient matrix:\\n\", corr)\n"
   ]
  },
  {
   "cell_type": "markdown",
   "id": "662fd0a9-62dd-4a46-9f0d-b7212d0766e1",
   "metadata": {},
   "source": [
    "####  64. Create two matrices and perform matrix multiplication using NumPy's dot function."
   ]
  },
  {
   "cell_type": "code",
   "execution_count": 68,
   "id": "fb2ed58a-0687-4f1d-8db7-fcdb1952ff03",
   "metadata": {},
   "outputs": [
    {
     "name": "stdout",
     "output_type": "stream",
     "text": [
      "Matrix multiplication result:\n",
      " [[19 22]\n",
      " [43 50]]\n"
     ]
    }
   ],
   "source": [
    "A = np.array([[1, 2], [3, 4]])\n",
    "B = np.array([[5, 6], [7, 8]])\n",
    "result = np.dot(A, B)\n",
    "print(\"Matrix multiplication result:\\n\", result)\n"
   ]
  },
  {
   "cell_type": "markdown",
   "id": "3263bc8f-9f01-490e-912c-f361b8a0bc7f",
   "metadata": {},
   "source": [
    "####  65. Create an array of 50 integers between 10 and 1000. Calculate the 10th, 50th (median), and 90th percentiles along with the first and third quartiles."
   ]
  },
  {
   "cell_type": "code",
   "execution_count": 69,
   "id": "3ca844de-8fbe-412f-8300-b5d06674b803",
   "metadata": {},
   "outputs": [
    {
     "name": "stdout",
     "output_type": "stream",
     "text": [
      "10th percentile: 173.6\n",
      "25th percentile (Q1): 349.25\n",
      "50th percentile (median): 530.5\n",
      "75th percentile (Q3): 776.25\n",
      "90th percentile: 862.4\n"
     ]
    }
   ],
   "source": [
    "arr = np.random.randint(10, 1001, size=50)\n",
    "print(\"10th percentile:\", np.percentile(arr, 10))\n",
    "print(\"25th percentile (Q1):\", np.percentile(arr, 25))\n",
    "print(\"50th percentile (median):\", np.percentile(arr, 50))\n",
    "print(\"75th percentile (Q3):\", np.percentile(arr, 75))\n",
    "print(\"90th percentile:\", np.percentile(arr, 90))\n"
   ]
  },
  {
   "cell_type": "markdown",
   "id": "adb86c2c-7758-41df-b6dc-bf19fa27b8d0",
   "metadata": {},
   "source": [
    "#### 66. Create a NumPy array of integers and find the index of a specific element.\n",
    " "
   ]
  },
  {
   "cell_type": "code",
   "execution_count": 70,
   "id": "9b2b44cb-5abe-489c-85a1-27cef1aaf0ec",
   "metadata": {},
   "outputs": [
    {
     "name": "stdout",
     "output_type": "stream",
     "text": [
      "Index of 30: 2\n"
     ]
    }
   ],
   "source": [
    "arr = np.array([10, 20, 30, 40, 50])\n",
    "index = np.where(arr == 30)[0][0]\n",
    "print(\"Index of 30:\", index)\n"
   ]
  },
  {
   "cell_type": "markdown",
   "id": "58a7ac28-abbb-4d36-813b-a73d96875379",
   "metadata": {},
   "source": [
    "#### 67. Generate a random NumPy array and sort it in ascending order."
   ]
  },
  {
   "cell_type": "code",
   "execution_count": 71,
   "id": "cddecdf7-300e-4311-91f3-e1352fa2df96",
   "metadata": {},
   "outputs": [
    {
     "name": "stdout",
     "output_type": "stream",
     "text": [
      "Sorted array: [ 3  7 17 28 30 44 52 90 94 98]\n"
     ]
    }
   ],
   "source": [
    "arr = np.random.randint(1, 100, size=10)\n",
    "sorted_arr = np.sort(arr)\n",
    "print(\"Sorted array:\", sorted_arr)\n"
   ]
  },
  {
   "cell_type": "markdown",
   "id": "0a93230c-fb79-4e01-a010-08125c842b63",
   "metadata": {},
   "source": [
    "####  68. Filter elements > 20 in the given NumPy array."
   ]
  },
  {
   "cell_type": "code",
   "execution_count": 72,
   "id": "c71dc712-d123-48ab-adc7-647b10228aa8",
   "metadata": {},
   "outputs": [
    {
     "name": "stdout",
     "output_type": "stream",
     "text": [
      "Elements > 20: [25 42 30]\n"
     ]
    }
   ],
   "source": [
    "arr = np.array([12, 25, 6, 42, 8, 30])\n",
    "filtered = arr[arr > 20]\n",
    "print(\"Elements > 20:\", filtered)\n"
   ]
  },
  {
   "cell_type": "markdown",
   "id": "2c279b5e-941e-485f-ba39-bd361c266340",
   "metadata": {},
   "source": [
    "#### 69. Filter elements which are divisible by 3 from a given NumPy array."
   ]
  },
  {
   "cell_type": "code",
   "execution_count": 73,
   "id": "d6a70193-20ac-42df-9057-7b9fb1fe68b8",
   "metadata": {},
   "outputs": [
    {
     "name": "stdout",
     "output_type": "stream",
     "text": [
      "Divisible by 3: [12 15]\n"
     ]
    }
   ],
   "source": [
    "arr = np.array([1, 5, 8, 12, 15])\n",
    "filtered = arr[arr % 3 == 0]\n",
    "print(\"Divisible by 3:\", filtered)\n"
   ]
  },
  {
   "cell_type": "markdown",
   "id": "e6e8cfa9-9feb-4c27-ae14-cca37de94284",
   "metadata": {},
   "source": [
    "####  70. Filter elements which are ≥ 20 and ≤ 40 from a given NumPy array."
   ]
  },
  {
   "cell_type": "code",
   "execution_count": 74,
   "id": "97449245-5a46-4614-87cf-9b5ddc665cbd",
   "metadata": {},
   "outputs": [
    {
     "name": "stdout",
     "output_type": "stream",
     "text": [
      "Between 20 and 40: [20 30 40]\n"
     ]
    }
   ],
   "source": [
    "arr = np.array([10, 20, 30, 40, 50])\n",
    "filtered = arr[(arr >= 20) & (arr <= 40)]\n",
    "print(\"Between 20 and 40:\", filtered)\n"
   ]
  },
  {
   "cell_type": "markdown",
   "id": "2cb63313-ee1b-435b-8f86-73ff71b49d09",
   "metadata": {},
   "source": [
    "#### 71. For the given NumPy array, check its byte order using the dtype attribute byteorder."
   ]
  },
  {
   "cell_type": "code",
   "execution_count": 75,
   "id": "22720880-77ac-44a6-ad25-b8264f1c3ed8",
   "metadata": {},
   "outputs": [
    {
     "name": "stdout",
     "output_type": "stream",
     "text": [
      "Byte order: =\n"
     ]
    }
   ],
   "source": [
    "arr = np.array([1, 2, 3], dtype=np.int32)\n",
    "print(\"Byte order:\", arr.dtype.byteorder)\n"
   ]
  },
  {
   "cell_type": "markdown",
   "id": "d10f5cee-49e8-4e1d-8f32-09eecc33ac8b",
   "metadata": {},
   "source": [
    "####  72. For the given NumPy array, perform byte swapping in place using byteswap()."
   ]
  },
  {
   "cell_type": "code",
   "execution_count": 76,
   "id": "ea088647-a308-447b-9090-dcc89a86a0e7",
   "metadata": {},
   "outputs": [
    {
     "name": "stdout",
     "output_type": "stream",
     "text": [
      "After byte swap: [16777216 33554432 50331648]\n"
     ]
    }
   ],
   "source": [
    "arr = np.array([1, 2, 3], dtype=np.int32)\n",
    "arr.byteswap(inplace=True)\n",
    "print(\"After byte swap:\", arr)\n"
   ]
  },
  {
   "cell_type": "markdown",
   "id": "433f991b-8c6a-4398-af14-d536bec170a4",
   "metadata": {},
   "source": [
    "#### 73. For the given NumPy array, swap its byte order without modifying the original array using newbyteorder()."
   ]
  },
  {
   "cell_type": "code",
   "execution_count": 77,
   "id": "f559b0ee-029e-47ed-a6c6-0e211e0025fc",
   "metadata": {},
   "outputs": [
    {
     "name": "stdout",
     "output_type": "stream",
     "text": [
      "Original: [1 2 3]\n",
      "New Byte Order: [16777216 33554432 50331648]\n"
     ]
    }
   ],
   "source": [
    "arr = np.array([1, 2, 3], dtype=np.int32)\n",
    "swapped = arr.newbyteorder()\n",
    "print(\"Original:\", arr)\n",
    "print(\"New Byte Order:\", swapped)\n"
   ]
  },
  {
   "cell_type": "markdown",
   "id": "7434bb8a-8ec4-482c-83f2-0719a2f8748d",
   "metadata": {},
   "source": [
    "####  74. For the given NumPy array, swap its byte order conditionally based on system endianness using newbyteorder()."
   ]
  },
  {
   "cell_type": "code",
   "execution_count": 78,
   "id": "78b5cf1e-da67-4c70-8a21-0f6218b6f7d5",
   "metadata": {},
   "outputs": [
    {
     "name": "stdout",
     "output_type": "stream",
     "text": [
      "Swapped for endianness: [16777216 33554432 50331648]\n"
     ]
    }
   ],
   "source": [
    "arr = np.array([1, 2, 3], dtype=np.int32)\n",
    "if arr.dtype.byteorder in ('=', '<'):\n",
    "    swapped = arr.newbyteorder()\n",
    "    print(\"Swapped for endianness:\", swapped)\n",
    "else:\n",
    "    print(\"No swap needed.\")\n"
   ]
  },
  {
   "cell_type": "markdown",
   "id": "7957385c-00c1-49c5-8efb-38fab8a54179",
   "metadata": {},
   "source": [
    "####  75. For the given NumPy array, check if byte swapping is necessary for the current system using dtype attribute byteorder."
   ]
  },
  {
   "cell_type": "code",
   "execution_count": 79,
   "id": "d62a8167-1082-4d18-8395-ae256b5a894f",
   "metadata": {},
   "outputs": [
    {
     "name": "stdout",
     "output_type": "stream",
     "text": [
      "Byte swap needed: False\n"
     ]
    }
   ],
   "source": [
    "arr = np.array([1, 2, 3], dtype=np.int32)\n",
    "need_swap = arr.dtype.byteorder not in ('=', '|')\n",
    "print(\"Byte swap needed:\", need_swap)\n"
   ]
  },
  {
   "cell_type": "markdown",
   "id": "f43ac235-cbab-42e0-bbfb-7c72975fe5af",
   "metadata": {},
   "source": [
    "####  76. Create a NumPy array arr1 with values from 1 to 10. Create a copy of arr1 named copy_arr and modify an element in copy_arr. Check if modifying copy_arr affects arr1."
   ]
  },
  {
   "cell_type": "code",
   "execution_count": 80,
   "id": "126ced4e-510f-42fa-baee-c054bec0317a",
   "metadata": {},
   "outputs": [
    {
     "name": "stdout",
     "output_type": "stream",
     "text": [
      "arr1: [ 1  2  3  4  5  6  7  8  9 10]\n",
      "copy_arr: [100   2   3   4   5   6   7   8   9  10]\n"
     ]
    }
   ],
   "source": [
    "arr1 = np.arange(1, 11)\n",
    "copy_arr = arr1.copy()\n",
    "copy_arr[0] = 100\n",
    "print(\"arr1:\", arr1)\n",
    "print(\"copy_arr:\", copy_arr)\n"
   ]
  },
  {
   "cell_type": "markdown",
   "id": "61053bcb-6de3-450e-81fe-40f4c6a2a6d2",
   "metadata": {},
   "source": [
    "####  77. Create a 2D NumPy array matrix of shape (3, 3) with random integers. Extract a slice view_slice from the matrix. Modify an element in view_slice and observe if it changes the original matrix."
   ]
  },
  {
   "cell_type": "code",
   "execution_count": 81,
   "id": "2c7617d1-580e-4b15-ab24-c968395327e4",
   "metadata": {},
   "outputs": [
    {
     "name": "stdout",
     "output_type": "stream",
     "text": [
      "Modified slice:\n",
      " [[99  4]\n",
      " [ 1  7]]\n",
      "Original matrix:\n",
      " [[99  4  7]\n",
      " [ 1  7  6]\n",
      " [ 9  8  5]]\n"
     ]
    }
   ],
   "source": [
    "matrix = np.random.randint(1, 10, (3, 3))\n",
    "view_slice = matrix[0:2, 0:2]\n",
    "view_slice[0, 0] = 99\n",
    "print(\"Modified slice:\\n\", view_slice)\n",
    "print(\"Original matrix:\\n\", matrix)\n"
   ]
  },
  {
   "cell_type": "markdown",
   "id": "cb36f9d6-126d-4794-ad8c-48ac46065972",
   "metadata": {},
   "source": [
    "#### 78. Create a NumPy array array_a of shape (4, 3) with sequential integers from 1 to 12. Extract a slice view_b from array_a and broadcast the addition of 5 to view_b. Check if it alters the original array_a."
   ]
  },
  {
   "cell_type": "code",
   "execution_count": 83,
   "id": "97efebd0-c242-4363-a98f-ca3c882f31f8",
   "metadata": {},
   "outputs": [
    {
     "name": "stdout",
     "output_type": "stream",
     "text": [
      "Modified slice:\n",
      " [[ 6  7  8]\n",
      " [ 9 10 11]]\n",
      "Original array:\n",
      " [[ 6  7  8]\n",
      " [ 9 10 11]\n",
      " [ 7  8  9]\n",
      " [10 11 12]]\n"
     ]
    }
   ],
   "source": [
    "array_a = np.arange(1, 13).reshape(4, 3)\n",
    "view_b = array_a[:2, :]\n",
    "view_b += 5\n",
    "print(\"Modified slice:\\n\", view_b)\n",
    "print(\"Original array:\\n\", array_a)\n"
   ]
  },
  {
   "cell_type": "markdown",
   "id": "d6977623-d2c1-4c74-8434-bd3688672f5b",
   "metadata": {},
   "source": [
    "####  79. Create a NumPy array orig_array of shape (2, 4) with values from 1 to 8. Create a reshaped view reshaped_view of shape (4, 2) from orig_array. Modify an element in reshaped_view and check if it reflects changes in the original orig_array."
   ]
  },
  {
   "cell_type": "code",
   "execution_count": 85,
   "id": "f10a6395-c672-47e5-96a3-a0e2b8d819cd",
   "metadata": {},
   "outputs": [
    {
     "name": "stdout",
     "output_type": "stream",
     "text": [
      "Original array:\n",
      " [[99  2  3  4]\n",
      " [ 5  6  7  8]]\n",
      "Reshaped view:\n",
      " [[99  2]\n",
      " [ 3  4]\n",
      " [ 5  6]\n",
      " [ 7  8]]\n"
     ]
    }
   ],
   "source": [
    "orig_array = np.arange(1, 9).reshape(2, 4)\n",
    "reshaped_view = orig_array.reshape(4, 2)\n",
    "reshaped_view[0, 0] = 99\n",
    "print(\"Original array:\\n\", orig_array)\n",
    "print(\"Reshaped view:\\n\", reshaped_view)\n"
   ]
  },
  {
   "cell_type": "markdown",
   "id": "c684d0aa-fea8-4ae7-be4b-f14381955b3e",
   "metadata": {},
   "source": [
    "##### 80. Create a NumPy array data of shape (3, 4) with random integers. Extract a copy data_copy of elements greater than 5. Modify an element in data_copy and verify if it affects the original data."
   ]
  },
  {
   "cell_type": "code",
   "execution_count": 86,
   "id": "788e8175-c13d-4127-8385-dcb18e2846e9",
   "metadata": {},
   "outputs": [
    {
     "name": "stdout",
     "output_type": "stream",
     "text": [
      "Original data:\n",
      " [[9 7 8 2]\n",
      " [2 1 4 1]\n",
      " [1 8 7 4]]\n",
      "Modified copy: [99  7  8  8  7]\n"
     ]
    }
   ],
   "source": [
    "data = np.random.randint(1, 10, (3, 4))\n",
    "data_copy = data[data > 5].copy()\n",
    "data_copy[0] = 99\n",
    "print(\"Original data:\\n\", data)\n",
    "print(\"Modified copy:\", data_copy)\n"
   ]
  },
  {
   "cell_type": "markdown",
   "id": "d21da1b4-6a34-44de-b5cc-52135c39c322",
   "metadata": {},
   "source": [
    "##### 81. Create two matrices A and B of identical shape containing integers and perform addition and subtraction operations between them."
   ]
  },
  {
   "cell_type": "code",
   "execution_count": 87,
   "id": "7953c2d0-b0ea-441b-b0e2-5f95e73fb675",
   "metadata": {},
   "outputs": [
    {
     "name": "stdout",
     "output_type": "stream",
     "text": [
      "Addition:\n",
      " [[ 6  8]\n",
      " [10 12]]\n",
      "Subtraction:\n",
      " [[-4 -4]\n",
      " [-4 -4]]\n"
     ]
    }
   ],
   "source": [
    "A = np.array([[1, 2], [3, 4]])\n",
    "B = np.array([[5, 6], [7, 8]])\n",
    "print(\"Addition:\\n\", A + B)\n",
    "print(\"Subtraction:\\n\", A - B)\n"
   ]
  },
  {
   "cell_type": "markdown",
   "id": "eb97f331-9c82-46ee-b8cf-0abf4a7eb21c",
   "metadata": {},
   "source": [
    "#### 82. Generate two matrices C (3x2) and D (2x4) and perform matrix multiplication."
   ]
  },
  {
   "cell_type": "code",
   "execution_count": 88,
   "id": "9dbbec8a-ec6b-4044-a006-423c0e71ba0a",
   "metadata": {},
   "outputs": [
    {
     "name": "stdout",
     "output_type": "stream",
     "text": [
      "Matrix Multiplication:\n",
      " [[11 14 17 20]\n",
      " [23 30 37 44]\n",
      " [35 46 57 68]]\n"
     ]
    }
   ],
   "source": [
    "C = np.array([[1, 2], [3, 4], [5, 6]])\n",
    "D = np.array([[1, 2, 3, 4], [5, 6, 7, 8]])\n",
    "result = np.dot(C, D)\n",
    "print(\"Matrix Multiplication:\\n\", result)\n"
   ]
  },
  {
   "cell_type": "markdown",
   "id": "79e531d1-a240-4e6a-b524-bdfc47ba76ea",
   "metadata": {},
   "source": [
    "#### 83. Create a matrix E and find its transpose."
   ]
  },
  {
   "cell_type": "code",
   "execution_count": 89,
   "id": "94a70066-b83d-4703-bfc6-6bc647f9e735",
   "metadata": {},
   "outputs": [
    {
     "name": "stdout",
     "output_type": "stream",
     "text": [
      "Transpose:\n",
      " [[1 4]\n",
      " [2 5]\n",
      " [3 6]]\n"
     ]
    }
   ],
   "source": [
    "E = np.array([[1, 2, 3], [4, 5, 6]])\n",
    "print(\"Transpose:\\n\", E.T)\n"
   ]
  },
  {
   "cell_type": "markdown",
   "id": "efebd1a0-46fb-4a82-9782-825303609537",
   "metadata": {},
   "source": [
    "####  84. Generate a square matrix F and compute its determinant."
   ]
  },
  {
   "cell_type": "code",
   "execution_count": 90,
   "id": "f9f4bb83-02cb-4c2a-a414-9cc2c96759c8",
   "metadata": {},
   "outputs": [
    {
     "name": "stdout",
     "output_type": "stream",
     "text": [
      "Determinant: -2.0000000000000004\n"
     ]
    }
   ],
   "source": [
    "F = np.array([[1, 2], [3, 4]])\n",
    "det = np.linalg.det(F)\n",
    "print(\"Determinant:\", det)\n"
   ]
  },
  {
   "cell_type": "markdown",
   "id": "d7595cbc-4026-4270-8a51-59a9a44613b4",
   "metadata": {},
   "source": [
    "#### 85. Create a square matrix G and find its inverse."
   ]
  },
  {
   "cell_type": "code",
   "execution_count": 91,
   "id": "ae3a6109-1498-4c17-ba6e-ab7d9b5f6290",
   "metadata": {},
   "outputs": [
    {
     "name": "stdout",
     "output_type": "stream",
     "text": [
      "Inverse:\n",
      " [[-2.   1. ]\n",
      " [ 1.5 -0.5]]\n"
     ]
    }
   ],
   "source": [
    "G = np.array([[1, 2], [3, 4]])\n",
    "inverse_G = np.linalg.inv(G)\n",
    "print(\"Inverse:\\n\", inverse_G)\n"
   ]
  },
  {
   "cell_type": "code",
   "execution_count": null,
   "id": "8a1a1f8e-e90a-456a-9724-1680ee5ca0cb",
   "metadata": {},
   "outputs": [],
   "source": []
  }
 ],
 "metadata": {
  "kernelspec": {
   "display_name": "Python 3 (ipykernel)",
   "language": "python",
   "name": "python3"
  },
  "language_info": {
   "codemirror_mode": {
    "name": "ipython",
    "version": 3
   },
   "file_extension": ".py",
   "mimetype": "text/x-python",
   "name": "python",
   "nbconvert_exporter": "python",
   "pygments_lexer": "ipython3",
   "version": "3.12.4"
  }
 },
 "nbformat": 4,
 "nbformat_minor": 5
}
