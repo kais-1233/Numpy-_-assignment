{
 "cells": [
  {
   "cell_type": "code",
   "execution_count": 11,
   "id": "ef026fdd-e060-4169-8c73-c31a2a9d61b7",
   "metadata": {},
   "outputs": [],
   "source": [
    "import numpy as np\n",
    "import seaborn as sns\n",
    "import matplotlib.pyplot as plt\n",
    "import pandas as pd\n",
    "from scipy import stats"
   ]
  },
  {
   "cell_type": "markdown",
   "id": "33409655-2832-435d-81b4-c5ef880dd54c",
   "metadata": {},
   "source": [
    "### Generate a list of 100 integers containing values between 90 to 130 and store it in the variable int_list.After generating the list, find the following:"
   ]
  },
  {
   "cell_type": "code",
   "execution_count": 2,
   "id": "91770cae-089c-4377-a260-d3a136ceee03",
   "metadata": {},
   "outputs": [
    {
     "name": "stdout",
     "output_type": "stream",
     "text": [
      "int_list: [90, 93, 93, 129, 99, 109, 111, 126, 113, 96, 114, 114, 102, 91, 128, 129, 113, 114, 107, 127, 115, 103, 98, 99, 110, 106, 95, 105, 90, 108, 125, 114, 119, 109, 109, 104, 129, 122, 91, 99, 122, 121, 100, 113, 125, 101, 118, 124, 90, 90, 126, 95, 128, 130, 107, 105, 94, 121, 91, 91, 129, 125, 128, 101, 108, 117, 90, 104, 125, 102, 110, 101, 94, 96, 94, 93, 102, 126, 130, 104, 105, 110, 125, 113, 105, 103, 111, 95, 125, 90, 121, 95, 120, 90, 126, 124, 119, 93, 124, 103]\n"
     ]
    }
   ],
   "source": [
    "np.random.seed(0)\n",
    "int_list = list(np.random.randint(90, 131, 100))\n",
    "print(\"int_list:\", int_list)"
   ]
  },
  {
   "cell_type": "markdown",
   "id": "9a2edc63-b985-4fc7-a284-0373cbbd1858",
   "metadata": {},
   "source": [
    "##### (i) Write a Python function to calculate the mean of a given list of numbers."
   ]
  },
  {
   "cell_type": "code",
   "execution_count": 3,
   "id": "3be4d7a4-e904-4126-b18d-e6782aa1555a",
   "metadata": {},
   "outputs": [
    {
     "name": "stdout",
     "output_type": "stream",
     "text": [
      "Mean of the list: 109.16\n"
     ]
    }
   ],
   "source": [
    "mean_value = sum(int_list) / len(int_list)\n",
    "print(\"Mean of the list:\", mean_value)"
   ]
  },
  {
   "cell_type": "markdown",
   "id": "19f6d15e-d67e-4871-8a09-54ef154965bf",
   "metadata": {},
   "source": [
    "##### (ii) Create a function to find the median of a list of numbers."
   ]
  },
  {
   "cell_type": "code",
   "execution_count": 4,
   "id": "22d2baf7-1bde-4dea-8636-ce771f99bbe5",
   "metadata": {},
   "outputs": [
    {
     "name": "stdout",
     "output_type": "stream",
     "text": [
      "Median of the list: 108.5\n"
     ]
    }
   ],
   "source": [
    "sorted_list = sorted(int_list)\n",
    "n = len(sorted_list)\n",
    "if n % 2 == 0:\n",
    "    median = (sorted_list[n//2 - 1] + sorted_list[n//2]) / 2\n",
    "else:\n",
    "    median = sorted_list[n//2]\n",
    "print(\"Median of the list:\", median)\n"
   ]
  },
  {
   "cell_type": "markdown",
   "id": "77514ba4-b219-47b4-9ad7-60ab0cf5e6d3",
   "metadata": {},
   "source": [
    "##### (iii) Develop a program to compute the mode of a list of integers."
   ]
  },
  {
   "cell_type": "code",
   "execution_count": 5,
   "id": "91a2714d-c0e1-48de-b78d-afcbb09f9ca7",
   "metadata": {},
   "outputs": [
    {
     "name": "stdout",
     "output_type": "stream",
     "text": [
      "Mode(s) of the list: [90]\n"
     ]
    }
   ],
   "source": [
    "from collections import Counter\n",
    "\n",
    "freq = Counter(int_list)\n",
    "max_freq = max(freq.values())\n",
    "mode = [k for k, v in freq.items() if v == max_freq]\n",
    "print(\"Mode(s) of the list:\", mode)\n"
   ]
  },
  {
   "cell_type": "markdown",
   "id": "2f9c149d-06ed-4ce7-82d1-1e43f76cd815",
   "metadata": {},
   "source": [
    "##### (iv) Implement a function to calculate the weighted mean of a list of values and their corresponding weights."
   ]
  },
  {
   "cell_type": "code",
   "execution_count": 6,
   "id": "8148cd7e-c5bd-4fe9-98c1-d864791c7e46",
   "metadata": {},
   "outputs": [
    {
     "name": "stdout",
     "output_type": "stream",
     "text": [
      "Weighted Mean: 109.26792079207921\n"
     ]
    }
   ],
   "source": [
    "weights = list(range(1, 101))  # weights from 1 to 100\n",
    "weighted_sum = sum(x * w for x, w in zip(int_list, weights))\n",
    "weighted_mean = weighted_sum / sum(weights)\n",
    "print(\"Weighted Mean:\", weighted_mean)\n"
   ]
  },
  {
   "cell_type": "markdown",
   "id": "7da5154f-79e7-4de6-8384-58d214466972",
   "metadata": {},
   "source": [
    "#####  (v) Write a Python function to find the geometric mean of a list of positive numbers."
   ]
  },
  {
   "cell_type": "code",
   "execution_count": 7,
   "id": "9f3c62c1-04de-419d-9e44-d28be999497f",
   "metadata": {},
   "outputs": [
    {
     "name": "stdout",
     "output_type": "stream",
     "text": [
      "Geometric Mean: 0.0\n"
     ]
    },
    {
     "name": "stderr",
     "output_type": "stream",
     "text": [
      "C:\\Users\\kkais\\AppData\\Local\\Temp\\ipykernel_24656\\1390798824.py:3: RuntimeWarning: overflow encountered in scalar multiply\n",
      "  product *= num\n"
     ]
    }
   ],
   "source": [
    "product = 1\n",
    "for num in int_list:\n",
    "    product *= num\n",
    "geometric_mean = product ** (1 / len(int_list))\n",
    "print(\"Geometric Mean:\", geometric_mean)\n"
   ]
  },
  {
   "cell_type": "markdown",
   "id": "26da28bf-1f9c-48ac-8356-84a87a87a035",
   "metadata": {},
   "source": [
    "#####  (vi) Create a program to calculate the harmonic mean of a list of values."
   ]
  },
  {
   "cell_type": "code",
   "execution_count": 8,
   "id": "ac8e92fc-18d8-49af-82a6-e8b79daa86d6",
   "metadata": {},
   "outputs": [
    {
     "name": "stdout",
     "output_type": "stream",
     "text": [
      "Harmonic Mean: 107.65203539562536\n"
     ]
    }
   ],
   "source": [
    "harmonic_mean = len(int_list) / sum(1 / x for x in int_list)\n",
    "print(\"Harmonic Mean:\", harmonic_mean)\n"
   ]
  },
  {
   "cell_type": "markdown",
   "id": "b346e5b1-2837-4c61-8df1-d941812d60f9",
   "metadata": {},
   "source": [
    "#####  (vii) Build a function to determine the midrange of a list of numbers (average of the minimum and maximum)."
   ]
  },
  {
   "cell_type": "code",
   "execution_count": 9,
   "id": "3518874e-0a4c-4d7e-a606-1d49a215c252",
   "metadata": {},
   "outputs": [
    {
     "name": "stdout",
     "output_type": "stream",
     "text": [
      "Midrange: 110.0\n"
     ]
    }
   ],
   "source": [
    "midrange = (min(int_list) + max(int_list)) / 2\n",
    "print(\"Midrange:\", midrange)\n"
   ]
  },
  {
   "cell_type": "markdown",
   "id": "16d7c7d5-c510-466b-afb7-e3df69fba17a",
   "metadata": {},
   "source": [
    "##### (viii) Implement a Python program to find the trimmed mean of a list, excluding a certain percentage of outliers.\n",
    " \n"
   ]
  },
  {
   "cell_type": "code",
   "execution_count": 10,
   "id": "b07feb48-d674-4ff2-921e-068959916573",
   "metadata": {},
   "outputs": [
    {
     "name": "stdout",
     "output_type": "stream",
     "text": [
      "Trimmed Mean (10%): 109.075\n"
     ]
    }
   ],
   "source": [
    "from scipy.stats import trim_mean\n",
    "\n",
    "trimmed_mean = trim_mean(int_list, 0.1)  # 10% trimmed from both ends\n",
    "print(\"Trimmed Mean (10%):\", trimmed_mean)\n"
   ]
  },
  {
   "cell_type": "markdown",
   "id": "86531c32-4c1a-4076-a281-2ea3f2e7a52d",
   "metadata": {},
   "source": [
    "## Generate a list of 500 integers containing values between 200 to 300 and store it in the variable int_list2.After generating the list, find the following:"
   ]
  },
  {
   "cell_type": "code",
   "execution_count": 12,
   "id": "a087634d-3ca4-4168-891b-c5745b7241e6",
   "metadata": {},
   "outputs": [
    {
     "name": "stdout",
     "output_type": "stream",
     "text": [
      "int_list2 sample: [237, 212, 272, 209, 275, 205, 279, 264, 216, 201]\n"
     ]
    }
   ],
   "source": [
    "np.random.seed(1)\n",
    "int_list2 = list(np.random.randint(200, 301, 500))\n",
    "print(\"int_list2 sample:\", int_list2[:10]) "
   ]
  },
  {
   "cell_type": "markdown",
   "id": "ffb2a5c8-b6f8-49a7-8ce1-82b3e046b579",
   "metadata": {},
   "source": [
    "##### (i) Compare the given list of visualization for the given data:\n",
    "###### 1. Frequency & Gaussian distribution\n",
    "###### 2. Frequency smoothened KDE plot\n",
    "###### 3. Gaussian distribution & smoothened KDE plot"
   ]
  },
  {
   "cell_type": "code",
   "execution_count": 13,
   "id": "ae1b3428-4bfb-4f9c-a4b8-1178b84566c1",
   "metadata": {},
   "outputs": [
    {
     "data": {
      "image/png": "[encoded data removed]",
      "text/plain": [
       "<Figure size 640x480 with 1 Axes>"
      ]
     },
     "metadata": {},
     "output_type": "display_data"
    }
   ],
   "source": [
    "sns.histplot(int_list2, kde=False, color=\"skyblue\", stat=\"density\", label='Histogram')\n",
    "sns.kdeplot(int_list2, color=\"red\", label='KDE Curve')\n",
    "x = np.linspace(min(int_list2), max(int_list2), 500)\n",
    "plt.plot(x, stats.norm.pdf(x, np.mean(int_list2), np.std(int_list2)), label='Gaussian Curve', color=\"green\")\n",
    "plt.legend()\n",
    "plt.title(\"Frequency, KDE and Gaussian Distribution\")\n",
    "plt.xlabel(\"Value\")\n",
    "plt.ylabel(\"Density\")\n",
    "plt.show()\n"
   ]
  },
  {
   "cell_type": "markdown",
   "id": "12d6c6a5-896c-4bbb-b9f8-35b30414e816",
   "metadata": {},
   "source": [
    "#####  (ii) Write a Python function to calculate the range of a given list of numbers."
   ]
  },
  {
   "cell_type": "code",
   "execution_count": 14,
   "id": "9e31cff6-a7f4-4af3-8e6b-1d4b668a199e",
   "metadata": {},
   "outputs": [
    {
     "name": "stdout",
     "output_type": "stream",
     "text": [
      "Range: 100\n"
     ]
    }
   ],
   "source": [
    "range_val = max(int_list2) - min(int_list2)\n",
    "print(\"Range:\", range_val)\n"
   ]
  },
  {
   "cell_type": "markdown",
   "id": "4c74a057-0f9f-4bd5-82cd-17a249417e39",
   "metadata": {},
   "source": [
    "#####  (iii) Create a program to find the variance and standard deviation of a list of numbers."
   ]
  },
  {
   "cell_type": "code",
   "execution_count": 15,
   "id": "fc05f02a-6887-4cf2-b4d3-2c301ac7c229",
   "metadata": {},
   "outputs": [
    {
     "name": "stdout",
     "output_type": "stream",
     "text": [
      "Variance: 857.221964\n",
      "Standard Deviation: 29.278353164069866\n"
     ]
    }
   ],
   "source": [
    "variance = np.var(int_list2)\n",
    "std_deviation = np.std(int_list2)\n",
    "print(\"Variance:\", variance)\n",
    "print(\"Standard Deviation:\", std_deviation)\n"
   ]
  },
  {
   "cell_type": "markdown",
   "id": "dd150ff9-2a39-49e5-92f2-b1e602988401",
   "metadata": {},
   "source": [
    "##### (iv) Implement a function to compute the interquartile range (IQR) of a list of values."
   ]
  },
  {
   "cell_type": "code",
   "execution_count": 16,
   "id": "6abfa7df-d521-4546-bb28-180515479260",
   "metadata": {},
   "outputs": [
    {
     "name": "stdout",
     "output_type": "stream",
     "text": [
      "Interquartile Range (IQR): 52.25\n"
     ]
    }
   ],
   "source": [
    "q1 = np.percentile(int_list2, 25)\n",
    "q3 = np.percentile(int_list2, 75)\n",
    "iqr = q3 - q1\n",
    "print(\"Interquartile Range (IQR):\", iqr)\n"
   ]
  },
  {
   "cell_type": "markdown",
   "id": "ddef5ed3-57bd-46e4-aebf-7afaf04502bc",
   "metadata": {},
   "source": [
    "#####  (v) Build a program to calculate the coefficient of variation for a dataset."
   ]
  },
  {
   "cell_type": "code",
   "execution_count": 18,
   "id": "e66c8232-197e-4fa4-8711-bd1d3717e1b2",
   "metadata": {},
   "outputs": [
    {
     "name": "stdout",
     "output_type": "stream",
     "text": [
      "Coefficient of Variation (%): 11.734528694327938\n"
     ]
    }
   ],
   "source": [
    "cv = (np.std(int_list2) / np.mean(int_list2)) * 100\n",
    "print(\"Coefficient of Variation (%):\", cv)\n"
   ]
  },
  {
   "cell_type": "markdown",
   "id": "64e9ad3b-3087-4950-8f3b-e3c016ef9c8d",
   "metadata": {},
   "source": [
    " ##### (vi) Write a Python function to find the mean absolute deviation (MAD) of a list of numbers."
   ]
  },
  {
   "cell_type": "code",
   "execution_count": 19,
   "id": "e8e6cc69-ee31-4019-92d6-8c314f9901df",
   "metadata": {},
   "outputs": [
    {
     "name": "stdout",
     "output_type": "stream",
     "text": [
      "Mean Absolute Deviation (MAD): 25.712072\n"
     ]
    }
   ],
   "source": [
    "mad = np.mean([abs(x - np.mean(int_list2)) for x in int_list2])\n",
    "print(\"Mean Absolute Deviation (MAD):\", mad)\n"
   ]
  },
  {
   "cell_type": "markdown",
   "id": "edec8bde-16d4-4a14-8e53-dd8d90473f90",
   "metadata": {},
   "source": [
    "##### (vii) Create a program to calculate the quartile deviation of a list of values."
   ]
  },
  {
   "cell_type": "code",
   "execution_count": 20,
   "id": "9ad08f95-ffeb-42b7-8923-f9fc61c6c6b6",
   "metadata": {},
   "outputs": [
    {
     "name": "stdout",
     "output_type": "stream",
     "text": [
      "Quartile Deviation: 26.125\n"
     ]
    }
   ],
   "source": [
    "quartile_deviation = (q3 - q1) / 2\n",
    "print(\"Quartile Deviation:\", quartile_deviation)\n"
   ]
  },
  {
   "cell_type": "markdown",
   "id": "1c991e4f-f5e3-4671-8c4a-34bd0dcac72e",
   "metadata": {},
   "source": [
    "#####  (viii) Implement a function to find the range-based coefficient of dispersion for a dataset"
   ]
  },
  {
   "cell_type": "code",
   "execution_count": 21,
   "id": "38c6e387-038d-4fa7-a5f2-fee063654e32",
   "metadata": {},
   "outputs": [
    {
     "name": "stdout",
     "output_type": "stream",
     "text": [
      "Range-based Coefficient of Dispersion: 0.2\n"
     ]
    }
   ],
   "source": [
    "r = max(int_list2) - min(int_list2)\n",
    "cd_range = r / (max(int_list2) + min(int_list2))\n",
    "print(\"Range-based Coefficient of Dispersion:\", cd_range)\n"
   ]
  },
  {
   "cell_type": "markdown",
   "id": "fee6f24c-e16b-47f4-982c-875cd89311cb",
   "metadata": {},
   "source": [
    "### 3.Write a Python class representing a discrete random variable with methods to calculate its expected value and variance."
   ]
  },
  {
   "cell_type": "code",
   "execution_count": 22,
   "id": "473993bd-d22e-41ba-b6d0-cb3c11f05a10",
   "metadata": {},
   "outputs": [
    {
     "name": "stdout",
     "output_type": "stream",
     "text": [
      "Expected Value: 3.2\n",
      "Variance: 1.56\n"
     ]
    }
   ],
   "source": [
    "# Define a discrete random variable using class\n",
    "class DiscreteRandomVariable:\n",
    "    def __init__(self, values, probabilities):\n",
    "        self.values = values\n",
    "        self.probabilities = probabilities\n",
    "\n",
    "    def expected_value(self):\n",
    "        return sum(v * p for v, p in zip(self.values, self.probabilities))\n",
    "\n",
    "    def variance(self):\n",
    "        mean = self.expected_value()\n",
    "        return sum(p * ((v - mean) ** 2) for v, p in zip(self.values, self.probabilities))\n",
    "\n",
    "# Example usage:\n",
    "values = [1, 2, 3, 4, 5]\n",
    "probabilities = [0.1, 0.2, 0.3, 0.2, 0.2]\n",
    "drv = DiscreteRandomVariable(values, probabilities)\n",
    "\n",
    "print(\"Expected Value:\", drv.expected_value())\n",
    "print(\"Variance:\", drv.variance())\n"
   ]
  },
  {
   "cell_type": "markdown",
   "id": "1bea84bd-5772-4cef-83eb-8a2668d4a04c",
   "metadata": {},
   "source": [
    "###  4. Implement a program to simulate the rolling of a fair six-sided die and calculate the expected value and variance of the outcomes."
   ]
  },
  {
   "cell_type": "code",
   "execution_count": 23,
   "id": "97d99b83-2f98-43c1-a2be-648cc2ee248e",
   "metadata": {},
   "outputs": [
    {
     "name": "stdout",
     "output_type": "stream",
     "text": [
      "Expected Value: 3.5\n",
      "Variance: 2.9166666666666665\n"
     ]
    }
   ],
   "source": [
    "values = [1, 2, 3, 4, 5, 6]\n",
    "probabilities = [1/6] * 6  # Fair die has equal probability\n",
    "\n",
    "expected = sum(v * p for v, p in zip(values, probabilities))\n",
    "variance = sum(p * ((v - expected) ** 2) for v, p in zip(values, probabilities))\n",
    "\n",
    "print(\"Expected Value:\", expected)\n",
    "print(\"Variance:\", variance)\n"
   ]
  },
  {
   "cell_type": "markdown",
   "id": "10b44fbe-a297-4a0f-8531-6cc82b533511",
   "metadata": {},
   "source": [
    "### 5. Create a Python function to generate random samples from a given probability distribution (e.g., binomial, Poisson) and calculate their mean and variance."
   ]
  },
  {
   "cell_type": "code",
   "execution_count": 24,
   "id": "16f6fde8-9591-4f5d-8d20-4c3658d15026",
   "metadata": {},
   "outputs": [
    {
     "name": "stdout",
     "output_type": "stream",
     "text": [
      "Binomial Mean: 5.008\n",
      "Binomial Variance: 2.577936\n",
      "Poisson Mean: 4.048\n",
      "Poisson Variance: 4.007696\n"
     ]
    }
   ],
   "source": [
    "import numpy as np\n",
    "\n",
    "# Binomial distribution\n",
    "binomial_sample = np.random.binomial(n=10, p=0.5, size=1000)\n",
    "print(\"Binomial Mean:\", np.mean(binomial_sample))\n",
    "print(\"Binomial Variance:\", np.var(binomial_sample))\n",
    "\n",
    "# Poisson distribution\n",
    "poisson_sample = np.random.poisson(lam=4, size=1000)\n",
    "print(\"Poisson Mean:\", np.mean(poisson_sample))\n",
    "print(\"Poisson Variance:\", np.var(poisson_sample))\n"
   ]
  },
  {
   "cell_type": "markdown",
   "id": "aa701ffa-7001-48d9-adaf-5d2a7b37df65",
   "metadata": {},
   "source": [
    "###  6. Write a Python script to generate random numbers from a Gaussian (normal) distribution and compute the mean, variance, and standard deviation of the samples."
   ]
  },
  {
   "cell_type": "code",
   "execution_count": 25,
   "id": "fdca8b73-302a-4891-a0be-60aa023f744f",
   "metadata": {},
   "outputs": [
    {
     "name": "stdout",
     "output_type": "stream",
     "text": [
      "Mean: 49.9434473567952\n",
      "Variance: 98.76031405454025\n",
      "Standard Deviation: 9.937822400030111\n"
     ]
    }
   ],
   "source": [
    "normal_sample = np.random.normal(loc=50, scale=10, size=1000)\n",
    "\n",
    "print(\"Mean:\", np.mean(normal_sample))\n",
    "print(\"Variance:\", np.var(normal_sample))\n",
    "print(\"Standard Deviation:\", np.std(normal_sample))\n"
   ]
  },
  {
   "cell_type": "markdown",
   "id": "aa736c24-b15d-4fcc-95f8-d776e334ecb0",
   "metadata": {},
   "source": [
    "## 7. Use seaborn library to load tips dataset. Find the following from the dataset for the columns total_bill and tip:¶"
   ]
  },
  {
   "cell_type": "code",
   "execution_count": 29,
   "id": "d43ddb63-7139-4184-8a48-0f69c3970d54",
   "metadata": {},
   "outputs": [
    {
     "data": {
      "text/html": [
       "<div>\n",
       "<style scoped>\n",
       "    .dataframe tbody tr th:only-of-type {\n",
       "        vertical-align: middle;\n",
       "    }\n",
       "\n",
       "    .dataframe tbody tr th {\n",
       "        vertical-align: top;\n",
       "    }\n",
       "\n",
       "    .dataframe thead th {\n",
       "        text-align: right;\n",
       "    }\n",
       "</style>\n",
       "<table border=\"1\" class=\"dataframe\">\n",
       "  <thead>\n",
       "    <tr style=\"text-align: right;\">\n",
       "      <th></th>\n",
       "      <th>total_bill</th>\n",
       "      <th>tip</th>\n",
       "      <th>sex</th>\n",
       "      <th>smoker</th>\n",
       "      <th>day</th>\n",
       "      <th>time</th>\n",
       "      <th>size</th>\n",
       "    </tr>\n",
       "  </thead>\n",
       "  <tbody>\n",
       "    <tr>\n",
       "      <th>0</th>\n",
       "      <td>16.99</td>\n",
       "      <td>1.01</td>\n",
       "      <td>Female</td>\n",
       "      <td>No</td>\n",
       "      <td>Sun</td>\n",
       "      <td>Dinner</td>\n",
       "      <td>2</td>\n",
       "    </tr>\n",
       "    <tr>\n",
       "      <th>1</th>\n",
       "      <td>10.34</td>\n",
       "      <td>1.66</td>\n",
       "      <td>Male</td>\n",
       "      <td>No</td>\n",
       "      <td>Sun</td>\n",
       "      <td>Dinner</td>\n",
       "      <td>3</td>\n",
       "    </tr>\n",
       "    <tr>\n",
       "      <th>2</th>\n",
       "      <td>21.01</td>\n",
       "      <td>3.50</td>\n",
       "      <td>Male</td>\n",
       "      <td>No</td>\n",
       "      <td>Sun</td>\n",
       "      <td>Dinner</td>\n",
       "      <td>3</td>\n",
       "    </tr>\n",
       "    <tr>\n",
       "      <th>3</th>\n",
       "      <td>23.68</td>\n",
       "      <td>3.31</td>\n",
       "      <td>Male</td>\n",
       "      <td>No</td>\n",
       "      <td>Sun</td>\n",
       "      <td>Dinner</td>\n",
       "      <td>2</td>\n",
       "    </tr>\n",
       "    <tr>\n",
       "      <th>4</th>\n",
       "      <td>24.59</td>\n",
       "      <td>3.61</td>\n",
       "      <td>Female</td>\n",
       "      <td>No</td>\n",
       "      <td>Sun</td>\n",
       "      <td>Dinner</td>\n",
       "      <td>4</td>\n",
       "    </tr>\n",
       "    <tr>\n",
       "      <th>...</th>\n",
       "      <td>...</td>\n",
       "      <td>...</td>\n",
       "      <td>...</td>\n",
       "      <td>...</td>\n",
       "      <td>...</td>\n",
       "      <td>...</td>\n",
       "      <td>...</td>\n",
       "    </tr>\n",
       "    <tr>\n",
       "      <th>239</th>\n",
       "      <td>29.03</td>\n",
       "      <td>5.92</td>\n",
       "      <td>Male</td>\n",
       "      <td>No</td>\n",
       "      <td>Sat</td>\n",
       "      <td>Dinner</td>\n",
       "      <td>3</td>\n",
       "    </tr>\n",
       "    <tr>\n",
       "      <th>240</th>\n",
       "      <td>27.18</td>\n",
       "      <td>2.00</td>\n",
       "      <td>Female</td>\n",
       "      <td>Yes</td>\n",
       "      <td>Sat</td>\n",
       "      <td>Dinner</td>\n",
       "      <td>2</td>\n",
       "    </tr>\n",
       "    <tr>\n",
       "      <th>241</th>\n",
       "      <td>22.67</td>\n",
       "      <td>2.00</td>\n",
       "      <td>Male</td>\n",
       "      <td>Yes</td>\n",
       "      <td>Sat</td>\n",
       "      <td>Dinner</td>\n",
       "      <td>2</td>\n",
       "    </tr>\n",
       "    <tr>\n",
       "      <th>242</th>\n",
       "      <td>17.82</td>\n",
       "      <td>1.75</td>\n",
       "      <td>Male</td>\n",
       "      <td>No</td>\n",
       "      <td>Sat</td>\n",
       "      <td>Dinner</td>\n",
       "      <td>2</td>\n",
       "    </tr>\n",
       "    <tr>\n",
       "      <th>243</th>\n",
       "      <td>18.78</td>\n",
       "      <td>3.00</td>\n",
       "      <td>Female</td>\n",
       "      <td>No</td>\n",
       "      <td>Thur</td>\n",
       "      <td>Dinner</td>\n",
       "      <td>2</td>\n",
       "    </tr>\n",
       "  </tbody>\n",
       "</table>\n",
       "<p>244 rows × 7 columns</p>\n",
       "</div>"
      ],
      "text/plain": [
       "     total_bill   tip     sex smoker   day    time  size\n",
       "0         16.99  1.01  Female     No   Sun  Dinner     2\n",
       "1         10.34  1.66    Male     No   Sun  Dinner     3\n",
       "2         21.01  3.50    Male     No   Sun  Dinner     3\n",
       "3         23.68  3.31    Male     No   Sun  Dinner     2\n",
       "4         24.59  3.61  Female     No   Sun  Dinner     4\n",
       "..          ...   ...     ...    ...   ...     ...   ...\n",
       "239       29.03  5.92    Male     No   Sat  Dinner     3\n",
       "240       27.18  2.00  Female    Yes   Sat  Dinner     2\n",
       "241       22.67  2.00    Male    Yes   Sat  Dinner     2\n",
       "242       17.82  1.75    Male     No   Sat  Dinner     2\n",
       "243       18.78  3.00  Female     No  Thur  Dinner     2\n",
       "\n",
       "[244 rows x 7 columns]"
      ]
     },
     "execution_count": 29,
     "metadata": {},
     "output_type": "execute_result"
    }
   ],
   "source": [
    "tips = sns.load_dataset('tips')\n",
    "tips"
   ]
  },
  {
   "cell_type": "markdown",
   "id": "3065e03b-e31c-4dea-8b3e-8dd3308e0472",
   "metadata": {},
   "source": [
    "##### (i) Write a Python function that calculates their skewness."
   ]
  },
  {
   "cell_type": "code",
   "execution_count": 31,
   "id": "5d48d54c-1711-4e46-b076-8ce1bd519ebc",
   "metadata": {},
   "outputs": [
    {
     "name": "stdout",
     "output_type": "stream",
     "text": [
      "Skewness of total_bill: 1.1262346334818638\n",
      "Skewness of tip: 1.4564266884221506\n"
     ]
    }
   ],
   "source": [
    "import seaborn as sns\n",
    "import pandas as pd\n",
    "from scipy.stats import skew\n",
    "\n",
    "# Load tips dataset\n",
    "tips = sns.load_dataset('tips')\n",
    "\n",
    "# Skewness of 'total_bill' and 'tip'\n",
    "skew_total_bill = skew(tips['total_bill'])\n",
    "skew_tip = skew(tips['tip'])\n",
    "\n",
    "print(\"Skewness of total_bill:\", skew_total_bill)\n",
    "print(\"Skewness of tip:\", skew_tip)\n"
   ]
  },
  {
   "cell_type": "markdown",
   "id": "db7547a2-f3aa-4960-a002-2010914c3fb4",
   "metadata": {},
   "source": [
    "##### (ii) Create a program that determines whether the columns exhibit positive skewness, negative skewness, or is approximately symmetric."
   ]
  },
  {
   "cell_type": "code",
   "execution_count": 32,
   "id": "b7dff8ef-9ab8-4bbf-9ca7-3d1122e61728",
   "metadata": {},
   "outputs": [
    {
     "name": "stdout",
     "output_type": "stream",
     "text": [
      "total_bill: Positive Skew\n",
      "tip: Positive Skew\n"
     ]
    }
   ],
   "source": [
    "def interpret_skew(value):\n",
    "    if value > 0.5:\n",
    "        return \"Positive Skew\"\n",
    "    elif value < -0.5:\n",
    "        return \"Negative Skew\"\n",
    "    else:\n",
    "        return \"Approximately Symmetric\"\n",
    "\n",
    "print(\"total_bill:\", interpret_skew(skew_total_bill))\n",
    "print(\"tip:\", interpret_skew(skew_tip))\n"
   ]
  },
  {
   "cell_type": "markdown",
   "id": "e06e8041-8045-49c5-9841-87397640e777",
   "metadata": {},
   "source": [
    "##### (iii) Write a function that calculates the covariance between two columns."
   ]
  },
  {
   "cell_type": "code",
   "execution_count": 33,
   "id": "78b39bbd-f28b-4ff6-823c-4bdcbcc511f4",
   "metadata": {},
   "outputs": [
    {
     "name": "stdout",
     "output_type": "stream",
     "text": [
      "Covariance between total_bill and tip: 8.323501629224854\n"
     ]
    }
   ],
   "source": [
    "cov_matrix = tips[['total_bill', 'tip']].cov()\n",
    "covariance = cov_matrix.loc['total_bill', 'tip']\n",
    "print(\"Covariance between total_bill and tip:\", covariance)\n"
   ]
  },
  {
   "cell_type": "markdown",
   "id": "decd833e-e446-4d5d-ad6d-5106a206f868",
   "metadata": {},
   "source": [
    "##### (iv) Implement a Python program that calculates the Pearson correlation coefficient between two columns."
   ]
  },
  {
   "cell_type": "code",
   "execution_count": 34,
   "id": "4ca17322-e84e-47e1-bc44-e0b718f1593f",
   "metadata": {},
   "outputs": [
    {
     "name": "stdout",
     "output_type": "stream",
     "text": [
      "Pearson Correlation Coefficient: 0.6757341092113648\n"
     ]
    }
   ],
   "source": [
    "correlation_matrix = tips[['total_bill', 'tip']].corr()\n",
    "pearson_corr = correlation_matrix.loc['total_bill', 'tip']\n",
    "print(\"Pearson Correlation Coefficient:\", pearson_corr)\n"
   ]
  },
  {
   "cell_type": "markdown",
   "id": "1a4a1bab-2b72-4fe6-afdf-8bb3717310f3",
   "metadata": {},
   "source": [
    "##### (v) Write a script to visualize the correlation between two specific columns in a Pandas DataFrame using scatter plots.\n",
    " \n"
   ]
  },
  {
   "cell_type": "code",
   "execution_count": 35,
   "id": "e5db0cff-a6f9-4865-8700-15ac64200270",
   "metadata": {},
   "outputs": [
    {
     "data": {
      "image/png": "[encoded data removed]",
      "text/plain": [
       "<Figure size 640x480 with 1 Axes>"
      ]
     },
     "metadata": {},
     "output_type": "display_data"
    }
   ],
   "source": [
    "import matplotlib.pyplot as plt\n",
    "\n",
    "plt.scatter(tips['total_bill'], tips['tip'], color='purple')\n",
    "plt.title(\"Scatter Plot: Total Bill vs Tip\")\n",
    "plt.xlabel(\"Total Bill\")\n",
    "plt.ylabel(\"Tip\")\n",
    "plt.grid()\n",
    "plt.show()\n"
   ]
  },
  {
   "cell_type": "code",
   "execution_count": null,
   "id": "2fa333b9-f381-4cac-b03c-67a5eb606f7c",
   "metadata": {},
   "outputs": [],
   "source": []
  },
  {
   "cell_type": "code",
   "execution_count": null,
   "id": "60cdc970-1c72-40ed-a25c-4131a550cc87",
   "metadata": {},
   "outputs": [],
   "source": []
  },
  {
   "cell_type": "markdown",
   "id": "c6033b52-f9c6-44dd-8b65-7bf23065d1b8",
   "metadata": {},
   "source": [
    "### 8. Write a Python function to calculate the probability density function (PDF) of a continuous random variable for a given normal distribution."
   ]
  },
  {
   "cell_type": "code",
   "execution_count": 26,
   "id": "a82ec8c1-3e63-4d76-880e-e178b8f59ba9",
   "metadata": {},
   "outputs": [
    {
     "data": {
      "image/png": "[encoded data removed]",
      "text/plain": [
       "<Figure size 640x480 with 1 Axes>"
      ]
     },
     "metadata": {},
     "output_type": "display_data"
    }
   ],
   "source": [
    "from scipy.stats import norm\n",
    "import matplotlib.pyplot as plt\n",
    "import numpy as np\n",
    "\n",
    "x = np.linspace(30, 70, 100)\n",
    "pdf_values = norm.pdf(x, loc=50, scale=10)\n",
    "\n",
    "plt.plot(x, pdf_values)\n",
    "plt.title(\"PDF of Normal Distribution\")\n",
    "plt.xlabel(\"x\")\n",
    "plt.ylabel(\"Probability Density\")\n",
    "plt.grid()\n",
    "plt.show()\n"
   ]
  },
  {
   "cell_type": "markdown",
   "id": "5c551143-260b-401f-aa77-14126da0ee7e",
   "metadata": {},
   "source": [
    "### 9. Create a program to calculate the cumulative distribution function (CDF) of exponential distribution."
   ]
  },
  {
   "cell_type": "code",
   "execution_count": 27,
   "id": "d1cfd0f2-9094-4fce-bfe0-0f32e3ded1b2",
   "metadata": {},
   "outputs": [
    {
     "data": {
      "image/png": "[encoded data removed]",
      "text/plain": [
       "<Figure size 640x480 with 1 Axes>"
      ]
     },
     "metadata": {},
     "output_type": "display_data"
    }
   ],
   "source": [
    "from scipy.stats import expon\n",
    "\n",
    "x = np.linspace(0, 10, 100)\n",
    "cdf_values = expon.cdf(x, scale=2)  # scale = 1/lambda\n",
    "\n",
    "plt.plot(x, cdf_values)\n",
    "plt.title(\"CDF of Exponential Distribution\")\n",
    "plt.xlabel(\"x\")\n",
    "plt.ylabel(\"Cumulative Probability\")\n",
    "plt.grid()\n",
    "plt.show()\n"
   ]
  },
  {
   "cell_type": "markdown",
   "id": "5e05498a-b111-4d96-92df-aacabf66400b",
   "metadata": {},
   "source": [
    "### 10. Write a Python function to calculate the probability mass function (PMF) of Poisson distribution."
   ]
  },
  {
   "cell_type": "code",
   "execution_count": 28,
   "id": "3b616a26-815e-4f94-8dce-250ac2748719",
   "metadata": {},
   "outputs": [
    {
     "data": {
      "image/png": "[encoded data removed]",
      "text/plain": [
       "<Figure size 640x480 with 1 Axes>"
      ]
     },
     "metadata": {},
     "output_type": "display_data"
    }
   ],
   "source": [
    "from scipy.stats import poisson\n",
    "\n",
    "x = np.arange(0, 15)\n",
    "pmf_values = poisson.pmf(x, mu=4)\n",
    "\n",
    "plt.bar(x, pmf_values)\n",
    "plt.title(\"PMF of Poisson Distribution (λ = 4)\")\n",
    "plt.xlabel(\"x\")\n",
    "plt.ylabel(\"PMF\")\n",
    "plt.grid()\n",
    "plt.show()\n"
   ]
  },
  {
   "cell_type": "markdown",
   "id": "a06c714b-44ed-4ba3-8b55-7b69a1aacf02",
   "metadata": {},
   "source": [
    "### 11. A company wants to test if a new website layout leads to a higher conversion rate (percentage of visitors who make a purchase). They collect data from the old and new layouts to compare."
   ]
  },
  {
   "cell_type": "code",
   "execution_count": 36,
   "id": "d061ae4b-0791-445b-9402-8e620920cac4",
   "metadata": {},
   "outputs": [],
   "source": [
    "import numpy as np\n",
    "\n",
    "# 50 purchases out of 1000 visitors\n",
    "old_layout = np.array([1] * 50 + [0] * 950)\n",
    "\n",
    "# 70 purchases out of 1000 visitors  \n",
    "new_layout = np.array([1] * 70 + [0] * 930)\n"
   ]
  },
  {
   "cell_type": "code",
   "execution_count": 38,
   "id": "d088eae9-d99d-4af3-b001-5a4634b1301f",
   "metadata": {},
   "outputs": [
    {
     "name": "stdout",
     "output_type": "stream",
     "text": [
      "Z-Statistic: 1.883837962960912\n",
      "P-Value: 0.029793448378725884\n",
      " New layout is significantly more successful.\n"
     ]
    }
   ],
   "source": [
    "from statsmodels.stats.weightstats import ztest\n",
    "\n",
    "# Z-test: is new_layout > old_layout?\n",
    "z_stat, p_value = ztest(new_layout, old_layout, alternative='larger')\n",
    "\n",
    "print(\"Z-Statistic:\", z_stat)\n",
    "print(\"P-Value:\", p_value)\n",
    "\n",
    "if p_value < 0.05:\n",
    "    print(\" New layout is significantly more successful.\")\n",
    "else:\n",
    "    print(\" New layout is not significantly better than old layout.\")\n"
   ]
  },
  {
   "cell_type": "markdown",
   "id": "f2fb6a1b-29b8-4482-a61b-a41aeec5fc91",
   "metadata": {},
   "source": [
    "### 12. A tutoring service claims that its program improves students' exam scores. A sample of students who participated in the program was taken, and their scores before and after the program were recorded."
   ]
  },
  {
   "cell_type": "code",
   "execution_count": 39,
   "id": "396a1b48-5ff8-4aa3-8393-e9ad70398742",
   "metadata": {},
   "outputs": [],
   "source": [
    "before_program = np.array([75, 80, 85, 70, 90, 78, 92, 88, 82, 87])\n",
    "after_program = np.array([80, 85, 90, 80, 92, 80, 95, 90, 85, 88])\n"
   ]
  },
  {
   "cell_type": "code",
   "execution_count": 40,
   "id": "ac4dd567-b45d-4e1a-b99a-d37b46f98eb4",
   "metadata": {},
   "outputs": [
    {
     "name": "stdout",
     "output_type": "stream",
     "text": [
      "Z-Statistic: 1.3600371723457605\n",
      "P-Value: 0.08690908050913837\n",
      " Claim is false: No significant improvement found.\n"
     ]
    }
   ],
   "source": [
    "from statsmodels.stats.weightstats import ztest\n",
    "import numpy as np\n",
    "\n",
    "# Data\n",
    "before_program = np.array([75, 80, 85, 70, 90, 78, 92, 88, 82, 87])\n",
    "after_program = np.array([80, 85, 90, 80, 92, 80, 95, 90, 85, 88])\n",
    "\n",
    "# Apply z-test (one-tailed: after > before)\n",
    "z_stat, p_value = ztest(after_program, before_program, alternative='larger')\n",
    "\n",
    "print(\"Z-Statistic:\", z_stat)\n",
    "print(\"P-Value:\", p_value)\n",
    "\n",
    "if p_value < 0.05:\n",
    "    print(\" Claim is true: The program improved scores significantly.\")\n",
    "else:\n",
    "    print(\" Claim is false: No significant improvement found.\")\n"
   ]
  },
  {
   "cell_type": "markdown",
   "id": "bcb4896a-1fc1-4f0c-ab2f-fb3b58f9a25f",
   "metadata": {},
   "source": [
    "### 13. A pharmaceutical company wants to determine if a new drug is effective in reducing blood pressure. They conduct a study and record blood pressure measurements before and after administering the drug."
   ]
  },
  {
   "cell_type": "code",
   "execution_count": 41,
   "id": "67588b83-da8a-4de6-9367-069efd9700c7",
   "metadata": {},
   "outputs": [],
   "source": [
    "before_drug = np.array([145, 150, 140, 135, 155, 160, 152, 148, 130, 138])\n",
    "after_drug = np.array([130, 140, 132, 128, 145, 148, 138, 136, 125, 130])\n"
   ]
  },
  {
   "cell_type": "code",
   "execution_count": 42,
   "id": "d01fa14c-f04b-4eb9-9c7c-a2fa7333d2db",
   "metadata": {},
   "outputs": [
    {
     "name": "stdout",
     "output_type": "stream",
     "text": [
      "Z-Statistic: -2.639577121919447\n",
      "P-Value: 0.004150476693595778\n",
      "✅ The drug is effective in reducing blood pressure.\n"
     ]
    }
   ],
   "source": [
    "from statsmodels.stats.weightstats import ztest\n",
    "import numpy as np\n",
    "\n",
    "# Data\n",
    "before_drug = np.array([145, 150, 140, 135, 155, 160, 152, 148, 130, 138])\n",
    "after_drug = np.array([130, 140, 132, 128, 145, 148, 138, 136, 125, 130])\n",
    "\n",
    "# Apply one-tailed z-test: check if after < before (reduction)\n",
    "z_stat, p_value = ztest(after_drug, before_drug, alternative='smaller')\n",
    "\n",
    "print(\"Z-Statistic:\", z_stat)\n",
    "print(\"P-Value:\", p_value)\n",
    "\n",
    "if p_value < 0.05:\n",
    "    print(\" The drug is effective in reducing blood pressure.\")\n",
    "else:\n",
    "    print(\" The drug is not significantly effective.\")\n"
   ]
  },
  {
   "cell_type": "markdown",
   "id": "8329e651-584e-4317-b2be-a723e1a3e09d",
   "metadata": {},
   "source": [
    "###  14. A customer service department claims that their average response time is less than 5 minutes. A sample of recent customer interactions was taken, and the response times were recorded."
   ]
  },
  {
   "cell_type": "code",
   "execution_count": 43,
   "id": "6eba8d46-232c-4391-819c-f29a084b1dd5",
   "metadata": {},
   "outputs": [],
   "source": [
    "response_times = np.array([4.3, 3.8, 5.1, 4.9, 4.7, 4.2, 5.2, 4.5, 4.6, 4.4])\n"
   ]
  },
  {
   "cell_type": "code",
   "execution_count": 45,
   "id": "9ce0e468-4de9-4f2d-89d5-ac047535b18d",
   "metadata": {},
   "outputs": [
    {
     "name": "stdout",
     "output_type": "stream",
     "text": [
      "Z-Statistic: -3.1844572260429627\n",
      "P-Value: 0.0007251287113068958\n",
      " Claim is true: Average response time is less than 5 minutes.\n"
     ]
    }
   ],
   "source": [
    "from statsmodels.stats.weightstats import ztest\n",
    "import numpy as np\n",
    "\n",
    "# Data\n",
    "response_times = np.array([4.3, 3.8, 5.1, 4.9, 4.7, 4.2, 5.2, 4.5, 4.6, 4.4])\n",
    "\n",
    "# Population mean to test against = 5 minutes\n",
    "# One-tailed test: check if average < 5\n",
    "z_stat, p_value = ztest(response_times, value=5, alternative='smaller')\n",
    "\n",
    "print(\"Z-Statistic:\", z_stat)\n",
    "print(\"P-Value:\", p_value)\n",
    "\n",
    "if p_value < 0.05:\n",
    "    print(\" Claim is true: Average response time is less than 5 minutes.\")\n",
    "else:\n",
    "    print(\" Claim is false: No significant evidence that average < 5 minutes.\")\n"
   ]
  },
  {
   "cell_type": "markdown",
   "id": "d9f909d4-7a7f-4b33-b215-fba915321fca",
   "metadata": {},
   "source": [
    "#### 15. A company is testing two different website layouts to see which one leads to higher click-through rates. Write a Python function to perform an A/B test analysis, including calculating the t-statistic, degrees of freedom, and p-value."
   ]
  },
  {
   "cell_type": "code",
   "execution_count": 46,
   "id": "9609e265-e318-49bd-b9ea-f478590f0205",
   "metadata": {},
   "outputs": [],
   "source": [
    "layout_a_clicks = [28, 32, 33, 29, 31, 34, 30, 35, 36, 37]\n",
    "layout_b_clicks = [40, 41, 38, 42, 39, 44, 43, 41, 45, 47]\n"
   ]
  },
  {
   "cell_type": "code",
   "execution_count": 48,
   "id": "e54decd3-a1f3-4a6d-9367-a147a389cead",
   "metadata": {},
   "outputs": [
    {
     "name": "stdout",
     "output_type": "stream",
     "text": [
      "T-Statistic: -7.298102156175071\n",
      "P-Value: 8.833437608301987e-07\n",
      "Degrees of Freedom: 18\n",
      " There is a significant difference between the two layouts.\n"
     ]
    }
   ],
   "source": [
    "from scipy.stats import ttest_ind\n",
    "\n",
    "# Data\n",
    "layout_a_clicks = [28, 32, 33, 29, 31, 34, 30, 35, 36, 37]\n",
    "layout_b_clicks = [40, 41, 38, 42, 39, 44, 43, 41, 45, 47]\n",
    "\n",
    "# Two-sample t-test (A/B Test)\n",
    "t_stat, p_value = ttest_ind(layout_a_clicks, layout_b_clicks, equal_var=True)\n",
    "\n",
    "print(\"T-Statistic:\", t_stat)\n",
    "print(\"P-Value:\", p_value)\n",
    "print(\"Degrees of Freedom:\", len(layout_a_clicks) + len(layout_b_clicks) - 2)\n",
    "\n",
    "if p_value < 0.05:\n",
    "    print(\" There is a significant difference between the two layouts.\")\n",
    "else:\n",
    "    print(\" No significant difference found between the two layouts.\")\n"
   ]
  },
  {
   "cell_type": "markdown",
   "id": "f5846dce-180c-4af7-879a-f4e4f5148812",
   "metadata": {},
   "source": [
    "#### A pharmaceutical company wants to determine if a new drug is more effective than an existing drug in reducing cholesterol levels. Create a program to analyze the clinical trial data and calculate the t-statistic and p-value for the treatment effect."
   ]
  },
  {
   "cell_type": "code",
   "execution_count": 49,
   "id": "96793cc5-940e-41a3-84e1-1581daf79144",
   "metadata": {},
   "outputs": [],
   "source": [
    "existing_drug_levels = [180, 182, 175, 185, 178, 176, 172, 184, 179, 183]\n",
    "new_drug_levels = [170, 172, 165, 168, 175, 173, 170, 178, 172, 176]\n"
   ]
  },
  {
   "cell_type": "code",
   "execution_count": 50,
   "id": "48e64864-eb09-4fa3-aef2-913a3723f3b7",
   "metadata": {},
   "outputs": [
    {
     "name": "stdout",
     "output_type": "stream",
     "text": [
      "T-Statistic: 4.14048098620866\n",
      "P-Value: 0.00030716992211862526\n",
      " New drug is significantly more effective in reducing cholesterol.\n"
     ]
    }
   ],
   "source": [
    "from scipy.stats import ttest_ind\n",
    "\n",
    "# Data\n",
    "existing_drug_levels = [180, 182, 175, 185, 178, 176, 172, 184, 179, 183]\n",
    "new_drug_levels = [170, 172, 165, 168, 175, 173, 170, 178, 172, 176]\n",
    "\n",
    "# Apply independent two-sample t-test\n",
    "t_stat, p_value = ttest_ind(existing_drug_levels, new_drug_levels, alternative='greater')\n",
    "\n",
    "print(\"T-Statistic:\", t_stat)\n",
    "print(\"P-Value:\", p_value)\n",
    "\n",
    "if p_value < 0.05:\n",
    "    print(\" New drug is significantly more effective in reducing cholesterol.\")\n",
    "else:\n",
    "    print(\" No significant evidence that new drug is better than existing one.\")\n"
   ]
  },
  {
   "cell_type": "markdown",
   "id": "6dbd261f-a03c-4775-be21-c4a8d03e6610",
   "metadata": {},
   "source": [
    "#### 17. A school district introduces an educational intervention program to improve math scores. Write a Python function to analyze pre- and post-intervention test scores, calculating the t-statistic and p-value to determine if the intervention had a significant impact."
   ]
  },
  {
   "cell_type": "code",
   "execution_count": 51,
   "id": "47412bc9-c658-4a9a-b683-748cb4dfe8e7",
   "metadata": {},
   "outputs": [],
   "source": [
    "pre_intervention_scores = [80, 85, 90, 75, 88, 82, 92, 78, 85, 87]\n",
    "post_intervention_scores = [90, 92, 88, 92, 95, 91, 96, 93, 89, 93]\n"
   ]
  },
  {
   "cell_type": "code",
   "execution_count": 52,
   "id": "e709a2c7-9bd7-4743-8ec3-ce0ae63c9a9b",
   "metadata": {},
   "outputs": [
    {
     "name": "stdout",
     "output_type": "stream",
     "text": [
      "T-Statistic: 4.42840883965761\n",
      "P-Value: 0.0016509548165795493\n",
      " The intervention program significantly improved math scores.\n"
     ]
    }
   ],
   "source": [
    "from scipy.stats import ttest_rel\n",
    "\n",
    "# Data\n",
    "pre_intervention_scores = [80, 85, 90, 75, 88, 82, 92, 78, 85, 87]\n",
    "post_intervention_scores = [90, 92, 88, 92, 95, 91, 96, 93, 89, 93]\n",
    "\n",
    "# Paired t-test (since same students are tested before and after)\n",
    "t_stat, p_value = ttest_rel(post_intervention_scores, pre_intervention_scores)\n",
    "\n",
    "print(\"T-Statistic:\", t_stat)\n",
    "print(\"P-Value:\", p_value)\n",
    "\n",
    "if p_value < 0.05:\n",
    "    print(\" The intervention program significantly improved math scores.\")\n",
    "else:\n",
    "    print(\" No significant improvement found after intervention.\")\n"
   ]
  },
  {
   "cell_type": "markdown",
   "id": "f0a70589-d45e-4ab3-b3e1-a5a3065ed476",
   "metadata": {},
   "source": [
    "#### 18. An HR department wants to investigate if there's a gender-based salary gap within the company. Develop a program to analyze salary data, calculate the t-statistic, and determine if there's a statistically significant difference between the average salaries of male and female employees."
   ]
  },
  {
   "cell_type": "code",
   "execution_count": 53,
   "id": "255e462b-ba97-41f5-a1ff-f07dbe5de504",
   "metadata": {},
   "outputs": [],
   "source": [
    "# Generate synthetic salary data for male and female employees\n",
    "np.random.seed(0)  # For reproducibility\n",
    "male_salaries = np.random.normal(loc=50000, scale=10000, size=20)\n",
    "female_salaries = np.random.normal(loc=55000, scale=9000, size=20)\n"
   ]
  },
  {
   "cell_type": "code",
   "execution_count": 54,
   "id": "8a5f8ef0-4df4-4e5f-953f-4634213761d0",
   "metadata": {},
   "outputs": [
    {
     "name": "stdout",
     "output_type": "stream",
     "text": [
      "T-Statistic: 0.06114208969631383\n",
      "P-Value: 0.9515665020676465\n",
      "There is no significant gender-based salary difference.\n"
     ]
    }
   ],
   "source": [
    "from scipy.stats import ttest_ind\n",
    "import numpy as np\n",
    "\n",
    "# Data\n",
    "np.random.seed(0)\n",
    "male_salaries = np.random.normal(loc=50000, scale=10000, size=20)\n",
    "female_salaries = np.random.normal(loc=55000, scale=9000, size=20)\n",
    "\n",
    "# Independent t-test\n",
    "t_stat, p_value = ttest_ind(male_salaries, female_salaries)\n",
    "\n",
    "print(\"T-Statistic:\", t_stat)\n",
    "print(\"P-Value:\", p_value)\n",
    "\n",
    "if p_value < 0.05:\n",
    "    print(\"There is a significant gender-based salary difference.\")\n",
    "else:\n",
    "    print(\"There is no significant gender-based salary difference.\")\n"
   ]
  },
  {
   "cell_type": "markdown",
   "id": "b0ab01af-275c-4030-86c5-6bec07965dd7",
   "metadata": {},
   "source": [
    "#### 19. A manufacturer produces two different versions of a product and wants to compare their quality scores. Create a Python function to analyze quality assessment data, calculate the t-statistic, and decide whether there's a significant difference in quality between the two versions."
   ]
  },
  {
   "cell_type": "code",
   "execution_count": 55,
   "id": "2e8a3e57-e4b7-4ac6-96e1-9c0a23d18c90",
   "metadata": {},
   "outputs": [],
   "source": [
    "version1_scores = [85, 88, 82, 89, 87, 84, 90, 88, 85, 86, 91, 83, 87, 84, 89, 86, 84, 88, 85, 86, 89, 90, 87, 88, 85]\n",
    "\n",
    "version2_scores = [80, 78, 83, 81, 79, 82, 76, 80, 78, 81, 77, 82, 80, 79, 82, 79, 80, 81, 79, 82, 79, 78, 80, 81, 82]\n"
   ]
  },
  {
   "cell_type": "code",
   "execution_count": 56,
   "id": "adf0b787-bcfa-4640-8cb9-6b2301a57ca0",
   "metadata": {},
   "outputs": [
    {
     "name": "stdout",
     "output_type": "stream",
     "text": [
      "T-Statistic: 11.325830417646698\n",
      "P-Value: 3.6824250702873965e-15\n",
      "There is a significant difference in quality between the two versions.\n"
     ]
    }
   ],
   "source": [
    "from scipy.stats import ttest_ind\n",
    "\n",
    "# Data\n",
    "version1_scores = [85, 88, 82, 89, 87, 84, 90, 88, 85, 86, 91, 83, 87, 84, 89, 86, 84, 88, 85, 86, 89, 90, 87, 88, 85]\n",
    "version2_scores = [80, 78, 83, 81, 79, 82, 76, 80, 78, 81, 77, 82, 80, 79, 82, 79, 80, 81, 79, 82, 79, 78, 80, 81, 82]\n",
    "\n",
    "# Independent t-test\n",
    "t_stat, p_value = ttest_ind(version1_scores, version2_scores)\n",
    "\n",
    "print(\"T-Statistic:\", t_stat)\n",
    "print(\"P-Value:\", p_value)\n",
    "\n",
    "if p_value < 0.05:\n",
    "    print(\"There is a significant difference in quality between the two versions.\")\n",
    "else:\n",
    "    print(\"No significant difference in quality between the two versions.\")\n"
   ]
  },
  {
   "cell_type": "markdown",
   "id": "c6605c82-f62a-47d0-82ce-b13708c0bda6",
   "metadata": {},
   "source": [
    "#### 20. A restaurant chain collects customer satisfaction scores for two different branches. Write a program to analyze the scores, calculate the t-statistic, and determine if there's a statistically significant difference in customer satisfaction between the branches."
   ]
  },
  {
   "cell_type": "code",
   "execution_count": 57,
   "id": "4dd5545f-b339-4807-ac55-8b194bfd8c04",
   "metadata": {},
   "outputs": [],
   "source": [
    "branch_a_scores = [4, 5, 3, 4, 5, 4, 5, 3, 4, 4, 5, 4, 4, 3, 4, 5, 5, 4, 3, 4, 5, 4, 3, 5, 4, 4, 5, 3, 4, 5, 4]\n",
    "\n",
    "branch_b_scores = [3, 4, 2, 3, 4, 3, 4, 2, 3, 3, 4, 3, 3, 2, 3, 4, 4, 3, 2, 3, 4, 3, 2, 4, 3, 3, 4, 2, 3, 4, 3]\n"
   ]
  },
  {
   "cell_type": "code",
   "execution_count": 58,
   "id": "aaa02cdb-ba0f-467d-bff7-c195db1ac78c",
   "metadata": {},
   "outputs": [
    {
     "name": "stdout",
     "output_type": "stream",
     "text": [
      "T-Statistic: 5.480077554195743\n",
      "P-Value: 8.895290509945657e-07\n",
      "There is a significant difference in satisfaction between the two branches.\n"
     ]
    }
   ],
   "source": [
    "from scipy.stats import ttest_ind\n",
    "\n",
    "# Data\n",
    "branch_a_scores = [4, 5, 3, 4, 5, 4, 5, 3, 4, 4, 5, 4, 4, 3, 4, 5, 5, 4, 3, 4, 5, 4, 3, 5, 4, 4, 5, 3, 4, 5, 4]\n",
    "branch_b_scores = [3, 4, 2, 3, 4, 3, 4, 2, 3, 3, 4, 3, 3, 2, 3, 4, 4, 3, 2, 3, 4, 3, 2, 4, 3, 3, 4, 2, 3, 4, 3]\n",
    "\n",
    "# Independent t-test\n",
    "t_stat, p_value = ttest_ind(branch_a_scores, branch_b_scores)\n",
    "\n",
    "print(\"T-Statistic:\", t_stat)\n",
    "print(\"P-Value:\", p_value)\n",
    "\n",
    "if p_value < 0.05:\n",
    "    print(\"There is a significant difference in satisfaction between the two branches.\")\n",
    "else:\n",
    "    print(\"No significant difference in satisfaction between the two branches.\")\n"
   ]
  },
  {
   "cell_type": "markdown",
   "id": "09ffeb04-d4cc-4227-bee7-52a3c437692e",
   "metadata": {},
   "source": [
    "#### 21. A political analyst wants to determine if there is a significant association between age groups and voter preferences (Candidate A or Candidate B). They collect data from a sample of 500 voters and classify them into different age groups and candidate preferences. Perform a Chi-Square test to determine if there is a significant association between age groups and voter preferences."
   ]
  },
  {
   "cell_type": "code",
   "execution_count": 59,
   "id": "3d27f3ee-0fa5-414c-9e60-16079323d958",
   "metadata": {},
   "outputs": [],
   "source": [
    "import numpy as np\n",
    "\n",
    "np.random.seed(0)\n",
    "\n",
    "age_groups = np.random.choice(['18-30', '31-50', '51+'], size=30)\n",
    "voter_preferences = np.random.choice(['Candidate A', 'Candidate B'], size=30)\n"
   ]
  },
  {
   "cell_type": "code",
   "execution_count": 60,
   "id": "68e057fb-8d95-41f0-bdca-75652f89b22a",
   "metadata": {},
   "outputs": [
    {
     "name": "stdout",
     "output_type": "stream",
     "text": [
      "Contingency Table:\n",
      "Preference  Candidate A  Candidate B\n",
      "Age Group                           \n",
      "18-30                 4            8\n",
      "31-50                 6            5\n",
      "51+                   4            3\n",
      "\n",
      "Chi-Square Statistic: 1.4401669758812612\n",
      "P-Value: 0.48671161971286614\n",
      "Degrees of Freedom: 2\n",
      "There is no significant association between age group and voter preference.\n"
     ]
    }
   ],
   "source": [
    "import pandas as pd\n",
    "from scipy.stats import chi2_contingency\n",
    "import numpy as np\n",
    "\n",
    "# Generate data\n",
    "np.random.seed(0)\n",
    "age_groups = np.random.choice(['18-30', '31-50', '51+'], size=30)\n",
    "voter_preferences = np.random.choice(['Candidate A', 'Candidate B'], size=30)\n",
    "\n",
    "# Create a contingency table\n",
    "data = pd.DataFrame({'Age Group': age_groups, 'Preference': voter_preferences})\n",
    "contingency_table = pd.crosstab(data['Age Group'], data['Preference'])\n",
    "\n",
    "# Apply Chi-Square test\n",
    "chi2, p_value, dof, expected = chi2_contingency(contingency_table)\n",
    "\n",
    "print(\"Contingency Table:\")\n",
    "print(contingency_table)\n",
    "print(\"\\nChi-Square Statistic:\", chi2)\n",
    "print(\"P-Value:\", p_value)\n",
    "print(\"Degrees of Freedom:\", dof)\n",
    "\n",
    "if p_value < 0.05:\n",
    "    print(\"There is a significant association between age group and voter preference.\")\n",
    "else:\n",
    "    print(\"There is no significant association between age group and voter preference.\")\n"
   ]
  },
  {
   "cell_type": "markdown",
   "id": "13401a31-112f-48ba-850e-fd23417e8277",
   "metadata": {},
   "source": [
    "#### 22. A company conducted a customer satisfaction survey to determine if there is a significant relationship between product satisfaction levels (Satisfied, Neutral, Dissatisfied) and the region where customers are located (East, West, North, South). The survey data is summarized in a contingency table. Conduct a Chi-Square test to determine if there is a significant relationship between product satisfaction levels and customer regions."
   ]
  },
  {
   "cell_type": "code",
   "execution_count": 61,
   "id": "877bb1e5-8a77-49f7-95b6-d74bdd0c2064",
   "metadata": {},
   "outputs": [],
   "source": [
    "# Sample data: Product satisfaction levels (rows) vs. Customer regions (columns)\n",
    "data = np.array([[50, 30, 40, 20], [30, 40, 30, 50], [20, 30, 40, 30]])\n"
   ]
  },
  {
   "cell_type": "code",
   "execution_count": 62,
   "id": "c3c75147-85e1-4573-9dd1-899c0706bb14",
   "metadata": {},
   "outputs": [
    {
     "name": "stdout",
     "output_type": "stream",
     "text": [
      "Chi-Square Statistic: 27.777056277056275\n",
      "P-Value: 0.00010349448486004387\n",
      "Degrees of Freedom: 6\n",
      "\n",
      "Expected Frequencies:\n",
      " [[34.14634146 34.14634146 37.56097561 34.14634146]\n",
      " [36.58536585 36.58536585 40.24390244 36.58536585]\n",
      " [29.26829268 29.26829268 32.19512195 29.26829268]]\n",
      "There is a significant relationship between satisfaction level and customer region.\n"
     ]
    }
   ],
   "source": [
    "import numpy as np\n",
    "from scipy.stats import chi2_contingency\n",
    "\n",
    "# Contingency table (satisfaction vs region)\n",
    "data = np.array([\n",
    "    [50, 30, 40, 20],  # Satisfied\n",
    "    [30, 40, 30, 50],  # Neutral\n",
    "    [20, 30, 40, 30]   # Dissatisfied\n",
    "])\n",
    "\n",
    "# Perform Chi-Square test\n",
    "chi2, p_value, dof, expected = chi2_contingency(data)\n",
    "\n",
    "print(\"Chi-Square Statistic:\", chi2)\n",
    "print(\"P-Value:\", p_value)\n",
    "print(\"Degrees of Freedom:\", dof)\n",
    "print(\"\\nExpected Frequencies:\\n\", expected)\n",
    "\n",
    "if p_value < 0.05:\n",
    "    print(\"There is a significant relationship between satisfaction level and customer region.\")\n",
    "else:\n",
    "    print(\"There is no significant relationship between satisfaction level and customer region.\")\n"
   ]
  },
  {
   "cell_type": "markdown",
   "id": "d4ae3124-523e-4001-932d-b2b42088b431",
   "metadata": {},
   "source": [
    "#### 23. A company implemented an employee training program to improve job performance (Effective, Neutral, Ineffective). After the training, they collected data from a sample of employees and classified them based on their job performance before and after the training. Perform a Chi-Square test to determine if there is a significant difference between job performance levels before and after the training."
   ]
  },
  {
   "cell_type": "code",
   "execution_count": 63,
   "id": "10b9d986-e9e8-4914-bf82-a3f2a2026440",
   "metadata": {},
   "outputs": [],
   "source": [
    "# Sample data: Job performance levels before (rows) and after (columns) training\n",
    "data = np.array([[50, 30, 20], [30, 40, 30], [20, 30, 40]])\n"
   ]
  },
  {
   "cell_type": "code",
   "execution_count": 64,
   "id": "99dc5aeb-058b-46c8-a793-1b5433489bb5",
   "metadata": {},
   "outputs": [
    {
     "name": "stdout",
     "output_type": "stream",
     "text": [
      "Chi-Square Statistic: 22.161728395061726\n",
      "P-Value: 0.00018609719479882554\n",
      "Degrees of Freedom: 4\n",
      "\n",
      "Expected Frequencies:\n",
      " [[34.48275862 34.48275862 31.03448276]\n",
      " [34.48275862 34.48275862 31.03448276]\n",
      " [31.03448276 31.03448276 27.93103448]]\n",
      "There is a significant change in job performance after training.\n"
     ]
    }
   ],
   "source": [
    "import numpy as np\n",
    "from scipy.stats import chi2_contingency\n",
    "\n",
    "# Contingency table: Job performance before (rows) vs after training (columns)\n",
    "data = np.array([\n",
    "    [50, 30, 20],  # Effective before\n",
    "    [30, 40, 30],  # Neutral before\n",
    "    [20, 30, 40]   # Ineffective before\n",
    "])\n",
    "\n",
    "# Apply Chi-Square test\n",
    "chi2, p_value, dof, expected = chi2_contingency(data)\n",
    "\n",
    "print(\"Chi-Square Statistic:\", chi2)\n",
    "print(\"P-Value:\", p_value)\n",
    "print(\"Degrees of Freedom:\", dof)\n",
    "print(\"\\nExpected Frequencies:\\n\", expected)\n",
    "\n",
    "if p_value < 0.05:\n",
    "    print(\"There is a significant change in job performance after training.\")\n",
    "else:\n",
    "    print(\"No significant change in job performance after training.\")\n"
   ]
  },
  {
   "cell_type": "markdown",
   "id": "8750bfb4-8efa-49dd-97b6-5a4bafa0eaf1",
   "metadata": {},
   "source": [
    "###### 24. A company produces three different versions of a product: Standard, Premium, and Deluxe. The company wants to determine if there is a significant difference in customer satisfaction scores among the three product versions. They conducted a survey and collected customer satisfaction scores for each version from a random sample of customers. Perform an ANOVA test to determine if there is a significant difference in customer satisfaction scores."
   ]
  },
  {
   "cell_type": "code",
   "execution_count": 65,
   "id": "f1dad2de-9071-4426-9a0d-4996e27a7082",
   "metadata": {},
   "outputs": [],
   "source": [
    "# Sample data: Customer satisfaction scores for each product version\n",
    "standard_scores = [80, 85, 90, 78, 88, 82, 92, 78, 85, 87]\n",
    "premium_scores = [90, 92, 88, 92, 95, 91, 96, 93, 89, 93]\n",
    "deluxe_scores = [95, 98, 92, 97, 96, 94, 98, 97, 92, 99]\n"
   ]
  },
  {
   "cell_type": "code",
   "execution_count": 66,
   "id": "0e4d316a-12d4-4a24-a6ef-ed18ec80d5b3",
   "metadata": {},
   "outputs": [
    {
     "name": "stdout",
     "output_type": "stream",
     "text": [
      "F-Statistic: 27.03556231003039\n",
      "P-Value: 3.578632885734896e-07\n",
      "There is a significant difference in satisfaction scores among the product versions.\n"
     ]
    }
   ],
   "source": [
    "from scipy.stats import f_oneway\n",
    "\n",
    "# Data\n",
    "standard_scores = [80, 85, 90, 78, 88, 82, 92, 78, 85, 87]\n",
    "premium_scores = [90, 92, 88, 92, 95, 91, 96, 93, 89, 93]\n",
    "deluxe_scores = [95, 98, 92, 97, 96, 94, 98, 97, 92, 99]\n",
    "\n",
    "# One-way ANOVA\n",
    "f_stat, p_value = f_oneway(standard_scores, premium_scores, deluxe_scores)\n",
    "\n",
    "print(\"F-Statistic:\", f_stat)\n",
    "print(\"P-Value:\", p_value)\n",
    "\n",
    "if p_value < 0.05:\n",
    "    print(\"There is a significant difference in satisfaction scores among the product versions.\")\n",
    "else:\n",
    "    print(\"No significant difference found in satisfaction scores among the product versions.\")\n"
   ]
  },
  {
   "cell_type": "code",
   "execution_count": null,
   "id": "b530df46-dbd2-49bc-86d0-ba41a21eba7d",
   "metadata": {},
   "outputs": [],
   "source": []
  }
 ],
 "metadata": {
  "kernelspec": {
   "display_name": "Python 3 (ipykernel)",
   "language": "python",
   "name": "python3"
  },
  "language_info": {
   "codemirror_mode": {
    "name": "ipython",
    "version": 3
   },
   "file_extension": ".py",
   "mimetype": "text/x-python",
   "name": "python",
   "nbconvert_exporter": "python",
   "pygments_lexer": "ipython3",
   "version": "3.12.4"
  }
 },
 "nbformat": 4,
 "nbformat_minor": 5
}
